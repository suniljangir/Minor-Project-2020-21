{
 "cells": [
  {
   "cell_type": "code",
   "execution_count": 4,
   "metadata": {
    "collapsed": true
   },
   "outputs": [
    {
     "name": "stdout",
     "output_type": "stream",
     "text": [
      "Requirement already satisfied: tensorflow==2.2 in e:\\anaconda\\lib\\site-packages (2.2.0)\n",
      "Requirement already satisfied: tensorflow-estimator<2.3.0,>=2.2.0 in e:\\anaconda\\lib\\site-packages (from tensorflow==2.2) (2.2.0)\n",
      "Requirement already satisfied: absl-py>=0.7.0 in e:\\anaconda\\lib\\site-packages (from tensorflow==2.2) (0.11.0)\n",
      "Requirement already satisfied: astunparse==1.6.3 in e:\\anaconda\\lib\\site-packages (from tensorflow==2.2) (1.6.3)\n",
      "Requirement already satisfied: numpy<2.0,>=1.16.0 in e:\\anaconda\\lib\\site-packages (from tensorflow==2.2) (1.19.2)\n",
      "Requirement already satisfied: h5py<2.11.0,>=2.10.0 in e:\\anaconda\\lib\\site-packages (from tensorflow==2.2) (2.10.0)\n",
      "Requirement already satisfied: tensorboard<2.3.0,>=2.2.0 in e:\\anaconda\\lib\\site-packages (from tensorflow==2.2) (2.2.2)\n",
      "Requirement already satisfied: wrapt>=1.11.1 in e:\\anaconda\\lib\\site-packages (from tensorflow==2.2) (1.11.2)\n",
      "Requirement already satisfied: wheel>=0.26; python_version >= \"3\" in e:\\anaconda\\lib\\site-packages (from tensorflow==2.2) (0.35.1)\n",
      "Requirement already satisfied: grpcio>=1.8.6 in e:\\anaconda\\lib\\site-packages (from tensorflow==2.2) (1.34.0)\n",
      "Requirement already satisfied: keras-preprocessing>=1.1.0 in e:\\anaconda\\lib\\site-packages (from tensorflow==2.2) (1.1.2)\n",
      "Requirement already satisfied: protobuf>=3.8.0 in e:\\anaconda\\lib\\site-packages (from tensorflow==2.2) (3.14.0)\n",
      "Requirement already satisfied: gast==0.3.3 in e:\\anaconda\\lib\\site-packages (from tensorflow==2.2) (0.3.3)\n",
      "Requirement already satisfied: termcolor>=1.1.0 in e:\\anaconda\\lib\\site-packages (from tensorflow==2.2) (1.1.0)\n",
      "Requirement already satisfied: six>=1.12.0 in e:\\anaconda\\lib\\site-packages (from tensorflow==2.2) (1.15.0)\n",
      "Requirement already satisfied: opt-einsum>=2.3.2 in e:\\anaconda\\lib\\site-packages (from tensorflow==2.2) (3.3.0)\n",
      "Requirement already satisfied: scipy==1.4.1; python_version >= \"3\" in e:\\anaconda\\lib\\site-packages (from tensorflow==2.2) (1.4.1)\n",
      "Requirement already satisfied: google-pasta>=0.1.8 in e:\\anaconda\\lib\\site-packages (from tensorflow==2.2) (0.2.0)\n",
      "Requirement already satisfied: google-auth<2,>=1.6.3 in e:\\anaconda\\lib\\site-packages (from tensorboard<2.3.0,>=2.2.0->tensorflow==2.2) (1.24.0)\n",
      "Requirement already satisfied: markdown>=2.6.8 in e:\\anaconda\\lib\\site-packages (from tensorboard<2.3.0,>=2.2.0->tensorflow==2.2) (3.3.3)\n",
      "Requirement already satisfied: requests<3,>=2.21.0 in e:\\anaconda\\lib\\site-packages (from tensorboard<2.3.0,>=2.2.0->tensorflow==2.2) (2.24.0)\n",
      "Requirement already satisfied: google-auth-oauthlib<0.5,>=0.4.1 in e:\\anaconda\\lib\\site-packages (from tensorboard<2.3.0,>=2.2.0->tensorflow==2.2) (0.4.2)\n",
      "Requirement already satisfied: tensorboard-plugin-wit>=1.6.0 in e:\\anaconda\\lib\\site-packages (from tensorboard<2.3.0,>=2.2.0->tensorflow==2.2) (1.7.0)\n",
      "Requirement already satisfied: setuptools>=41.0.0 in e:\\anaconda\\lib\\site-packages (from tensorboard<2.3.0,>=2.2.0->tensorflow==2.2) (50.3.1.post20201107)\n",
      "Requirement already satisfied: werkzeug>=0.11.15 in e:\\anaconda\\lib\\site-packages (from tensorboard<2.3.0,>=2.2.0->tensorflow==2.2) (1.0.1)\n",
      "Requirement already satisfied: cachetools<5.0,>=2.0.0 in e:\\anaconda\\lib\\site-packages (from google-auth<2,>=1.6.3->tensorboard<2.3.0,>=2.2.0->tensorflow==2.2) (4.2.0)\n",
      "Requirement already satisfied: pyasn1-modules>=0.2.1 in e:\\anaconda\\lib\\site-packages (from google-auth<2,>=1.6.3->tensorboard<2.3.0,>=2.2.0->tensorflow==2.2) (0.2.8)\n",
      "Requirement already satisfied: rsa<5,>=3.1.4; python_version >= \"3.6\" in e:\\anaconda\\lib\\site-packages (from google-auth<2,>=1.6.3->tensorboard<2.3.0,>=2.2.0->tensorflow==2.2) (4.6)\n",
      "Requirement already satisfied: certifi>=2017.4.17 in e:\\anaconda\\lib\\site-packages (from requests<3,>=2.21.0->tensorboard<2.3.0,>=2.2.0->tensorflow==2.2) (2020.6.20)\n",
      "Requirement already satisfied: idna<3,>=2.5 in e:\\anaconda\\lib\\site-packages (from requests<3,>=2.21.0->tensorboard<2.3.0,>=2.2.0->tensorflow==2.2) (2.10)\n",
      "Requirement already satisfied: chardet<4,>=3.0.2 in e:\\anaconda\\lib\\site-packages (from requests<3,>=2.21.0->tensorboard<2.3.0,>=2.2.0->tensorflow==2.2) (3.0.4)\n",
      "Requirement already satisfied: urllib3!=1.25.0,!=1.25.1,<1.26,>=1.21.1 in e:\\anaconda\\lib\\site-packages (from requests<3,>=2.21.0->tensorboard<2.3.0,>=2.2.0->tensorflow==2.2) (1.25.11)\n",
      "Requirement already satisfied: requests-oauthlib>=0.7.0 in e:\\anaconda\\lib\\site-packages (from google-auth-oauthlib<0.5,>=0.4.1->tensorboard<2.3.0,>=2.2.0->tensorflow==2.2) (1.3.0)\n",
      "Requirement already satisfied: pyasn1<0.5.0,>=0.4.6 in e:\\anaconda\\lib\\site-packages (from pyasn1-modules>=0.2.1->google-auth<2,>=1.6.3->tensorboard<2.3.0,>=2.2.0->tensorflow==2.2) (0.4.8)\n",
      "Requirement already satisfied: oauthlib>=3.0.0 in e:\\anaconda\\lib\\site-packages (from requests-oauthlib>=0.7.0->google-auth-oauthlib<0.5,>=0.4.1->tensorboard<2.3.0,>=2.2.0->tensorflow==2.2) (3.1.0)\n"
     ]
    }
   ],
   "source": [
    "!pip install tensorflow==2.2"
   ]
  },
  {
   "cell_type": "code",
   "execution_count": 5,
   "metadata": {},
   "outputs": [],
   "source": [
    "# Importing the Keras libraries and packages\n",
    "from keras.models import Sequential\n",
    "from keras.layers import Convolution2D\n",
    "from keras.layers import MaxPooling2D\n",
    "from keras.layers import Flatten\n",
    "from keras.layers import Dense\n",
    "\n",
    "# Step 1 - Building the CNN\n",
    "\n",
    "# Initializing the CNN\n",
    "classifier = Sequential()\n",
    "\n",
    "# First convolution layer and pooling\n",
    "classifier.add(Convolution2D(32, (3, 3), input_shape=(64, 64, 1), activation='relu'))\n",
    "classifier.add(MaxPooling2D(pool_size=(2, 2)))\n",
    "# Second convolution layer and pooling\n",
    "classifier.add(Convolution2D(32, (3, 3), activation='relu'))\n",
    "# input_shape is going to be the pooled feature maps from the previous convolution layer\n",
    "classifier.add(MaxPooling2D(pool_size=(2, 2)))\n",
    "\n",
    "# Flattening the layers\n",
    "classifier.add(Flatten())\n",
    "\n",
    "# Adding a fully connected layer\n",
    "classifier.add(Dense(units=128, activation='relu'))\n",
    "#classifier.add(Dense(units=128, activation='relu'))\n",
    "classifier.add(Dense(units=30, activation='softmax')) # softmax for more than 2\n",
    "\n",
    "# Compiling the CNN\n",
    "classifier.compile(optimizer='adam', loss='categorical_crossentropy', metrics=['accuracy']) \n",
    "# categorical_crossentropy for more than 2\n",
    "\n",
    "\n"
   ]
  },
  {
   "cell_type": "code",
   "execution_count": 3,
   "metadata": {
    "collapsed": true
   },
   "outputs": [
    {
     "name": "stderr",
     "output_type": "stream",
     "text": [
      "W0708 18:55:59.175036  7552 deprecation.py:323] From D:\\Anaconda\\envs\\opencv-env\\lib\\site-packages\\tensorflow\\python\\ops\\math_grad.py:1250: add_dispatch_support.<locals>.wrapper (from tensorflow.python.ops.array_ops) is deprecated and will be removed in a future version.\n",
      "Instructions for updating:\n",
      "Use tf.where in 2.0, which has the same broadcast rule as np.where\n",
      "W0708 18:55:59.305765  7552 deprecation_wrapper.py:119] From D:\\Anaconda\\envs\\opencv-env\\lib\\site-packages\\keras\\backend\\tensorflow_backend.py:986: The name tf.assign_add is deprecated. Please use tf.compat.v1.assign_add instead.\n",
      "\n"
     ]
    },
    {
     "name": "stdout",
     "output_type": "stream",
     "text": [
      "Epoch 1/10\n",
      "22500/22500 [==============================] - 1804s 80ms/step - loss: 0.0667 - acc: 0.9819 - val_loss: 0.7435 - val_acc: 0.9209\n",
      "Epoch 2/10\n",
      "22500/22500 [==============================] - 888s 39ms/step - loss: 0.0076 - acc: 0.9980 - val_loss: 0.6749 - val_acc: 0.9447\n",
      "Epoch 3/10\n",
      "22500/22500 [==============================] - 1008s 45ms/step - loss: 0.0056 - acc: 0.9987 - val_loss: 0.8157 - val_acc: 0.9289\n",
      "Epoch 4/10\n",
      "22500/22500 [==============================] - 1042s 46ms/step - loss: 0.0064 - acc: 0.9987 - val_loss: 0.8198 - val_acc: 0.9359\n",
      "Epoch 5/10\n",
      "22500/22500 [==============================] - 1072s 48ms/step - loss: 0.0106 - acc: 0.9986 - val_loss: 0.9210 - val_acc: 0.9305\n",
      "Epoch 6/10\n",
      "22500/22500 [==============================] - 1113s 49ms/step - loss: 0.0110 - acc: 0.9986 - val_loss: 0.9144 - val_acc: 0.9347\n",
      "Epoch 7/10\n",
      "22500/22500 [==============================] - 1104s 49ms/step - loss: 0.0118 - acc: 0.9987 - val_loss: 0.8740 - val_acc: 0.9393\n",
      "Epoch 8/10\n",
      "22500/22500 [==============================] - 1101s 49ms/step - loss: 0.0107 - acc: 0.9990 - val_loss: 0.8221 - val_acc: 0.9437\n",
      "Epoch 9/10\n",
      "22500/22500 [==============================] - 1101s 49ms/step - loss: 0.0134 - acc: 0.9986 - val_loss: 0.8585 - val_acc: 0.9408\n",
      "Epoch 10/10\n",
      "22500/22500 [==============================] - 1101s 49ms/step - loss: 0.0085 - acc: 0.9992 - val_loss: 0.8792 - val_acc: 0.9413\n"
     ]
    }
   ],
   "source": [
    "classifier.fit_generator(\n",
    "        training_set,\n",
    "        steps_per_epoch=22500, # No of images in training set\n",
    "        epochs=25\n",
    "        validation_data=test_set,\n",
    "        validation_steps=7500)# No of images in test set\n",
    "\n",
    "\n",
    "# Saving the model\n",
    "model_json = classifier.to_json()\n",
    "with open(\"model-bw.json\", \"w\") as json_file:\n",
    "    json_file.write(model_json)\n",
    "classifier.save_weights('model-bw.h5')\n",
    "\n"
   ]
  }
 ],
 "metadata": {
  "kernelspec": {
   "display_name": "Python 3",
   "language": "python",
   "name": "python3"
  },
  "language_info": {
   "codemirror_mode": {
    "name": "ipython",
    "version": 3
   },
   "file_extension": ".py",
   "mimetype": "text/x-python",
   "name": "python",
   "nbconvert_exporter": "python",
   "pygments_lexer": "ipython3",
   "version": "3.8.5"
  }
 },
 "nbformat": 4,
 "nbformat_minor": 2
}
