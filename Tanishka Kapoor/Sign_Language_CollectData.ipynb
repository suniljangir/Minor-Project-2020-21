{
 "cells": [
  {
   "cell_type": "code",
   "execution_count": 1,
   "metadata": {},
   "outputs": [
    {
     "name": "stdout",
     "output_type": "stream",
     "text": [
      "DATASET FOLDER NAME : Signlanguage\n",
      "TRAINING FOLDER NAME : train\n",
      "TESTING FOLDER NAME : test\n"
     ]
    }
   ],
   "source": [
    "import cv2\n",
    "import numpy as np\n",
    "import os\n",
    "\n",
    "# Train or test \n",
    "#mode = 'train'\n",
    "#directory = 'data/'+mode+'/'\n",
    "\n",
    "\n",
    "import matplotlib.pyplot as plt\n",
    "from IPython.display import clear_output\n",
    "\n",
    "main_foldername=input(\"DATASET FOLDER NAME : \")\n",
    "train_foldername=input(\"TRAINING FOLDER NAME : \")\n",
    "test_foldername=input(\"TESTING FOLDER NAME : \")"
   ]
  },
  {
   "cell_type": "code",
   "execution_count": 8,
   "metadata": {},
   "outputs": [
    {
     "name": "stdout",
     "output_type": "stream",
     "text": [
      "GESTURE NAME : G\n"
     ]
    }
   ],
   "source": [
    "gesture_foldername=input(\"GESTURE NAME : \")\n",
    "\n",
    "path1=os.path.join(main_foldername,train_foldername,gesture_foldername)\n",
    "path2=os.path.join(main_foldername,test_foldername,gesture_foldername)\n",
    "\n",
    "if not os.path.exists(path1):\n",
    "    os.makedirs(path1)\n",
    "if not os.path.exists(path2):\n",
    "    os.makedirs(path2)\n",
    "\n",
    "\n",
    "cap = cv2.VideoCapture(0)\n",
    "count=1\n",
    "while True:\n",
    "    _, frame = cap.read()\n",
    "    # Simulating mirror image\n",
    "    frame = cv2.flip(frame, 1)\n",
    "    \n",
    "    # Getting count of existing images\n",
    "    # Printing the count in each set to the screen\n",
    "    # Coordinates of the ROI\n",
    "    x1 = int(0.5*frame.shape[1])\n",
    "    y1 = 10\n",
    "    x2 = frame.shape[1]-10\n",
    "    y2 = int(0.5*frame.shape[1])\n",
    "    # Drawing the ROI\n",
    "    # The increment/decrement by 1 is to compensate for the bounding box\n",
    "    cv2.rectangle(frame, (x1-1, y1-1), (x2+1, y2+1), (255,0,0) ,1)\n",
    "    # Extracting the ROI\n",
    "    roi = frame[y1:y2, x1:x2]\n",
    "    roi = cv2.resize(roi, (64, 64)) \n",
    "    cv2.imshow(\"Frame\", frame)\n",
    "    #cv2.show()\n",
    "    roi = cv2.cvtColor(roi, cv2.COLOR_BGR2GRAY)\n",
    "    _, roi = cv2.threshold(roi, 120, 255, cv2.THRESH_BINARY)\n",
    "    #if count<=50:\n",
    "    ##    count+=1\n",
    "    if count<=200:\n",
    "        count+=1\n",
    "    elif count<=950:\n",
    "        cv2.imwrite(path1+'\\\\'+gesture_foldername+str(count)+'.png',roi)\n",
    "        count+=1\n",
    "    elif count<=1200:\n",
    "        cv2.imwrite(path2+'\\\\'+gesture_foldername+str(count)+'.png',roi)\n",
    "        count+=1\n",
    "    elif count>1200:\n",
    "        break\n",
    "    interrupt = cv2.waitKey(10)\n",
    "    if interrupt & 0xFF == 27: # esc key\n",
    "        break\n",
    "    \n",
    "cap.release()\n",
    "cv2.destroyAllWindows()"
   ]
  },
  {
   "cell_type": "code",
   "execution_count": null,
   "metadata": {},
   "outputs": [],
   "source": []
  },
  {
   "cell_type": "code",
   "execution_count": null,
   "metadata": {},
   "outputs": [],
   "source": []
  }
 ],
 "metadata": {
  "kernelspec": {
   "display_name": "Python 3",
   "language": "python",
   "name": "python3"
  },
  "language_info": {
   "codemirror_mode": {
    "name": "ipython",
    "version": 3
   },
   "file_extension": ".py",
   "mimetype": "text/x-python",
   "name": "python",
   "nbconvert_exporter": "python",
   "pygments_lexer": "ipython3",
   "version": "3.8.5"
  }
 },
 "nbformat": 4,
 "nbformat_minor": 2
}
