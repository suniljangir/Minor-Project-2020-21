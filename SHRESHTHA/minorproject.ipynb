{
 "cells": [
  {
   "cell_type": "markdown",
   "metadata": {},
   "source": [
    "# Problem Statement and Data Description"
   ]
  },
  {
   "cell_type": "markdown",
   "metadata": {},
   "source": [
    "\n",
    "**Chennai House Price Prediction (Regression)**\n",
    "\n",
    "ChennaiEstate is a real estate firm based in Chennai that is involved in the property business for the past 5 years. Since, they are in the business for so long, they have enough data of all the real estate transactions in the city.\n",
    "\n",
    "They decided to venture into Analytics and have now started a division called “Chennai Estate Analytics” to give consumers as much information as possible about housings and the real estate market in Chennai. A home is often the largest and most expensive purchase a person makes in his or her lifetime. Ensuring real-estate owners have a\n",
    "trusted way to monitor the asset is incredibly important. Hence, they have hired you as a consultant to help them give insights and develop a model to accurately predict real estate prices.\n",
    "\n",
    "Based on the train dataset, you will need to develop a model that accurately predicts the real estate price in Chennai."
   ]
  },
  {
   "cell_type": "markdown",
   "metadata": {},
   "source": [
    "### Data Description"
   ]
  },
  {
   "cell_type": "markdown",
   "metadata": {},
   "source": [
    "  \n",
    "## House Features\n",
    "   - INT_SQFT – The interior Sq. Ft of the property\n",
    "   - N_BEDROOM – The number of Bed rooms\n",
    "   - N_BATHROOM - The number of bathrooms\n",
    "   - N_ROOM – Total Number of Rooms\n",
    "   - QS_ROOMS – The quality score assigned for rooms based on buyer reviews\n",
    "   - QS_BATHROOM – The quality score assigned for bathroom based on buyer reviews\n",
    "   - QS_BEDROOM – The quality score assigned for bedroom based on buyer reviews\n",
    "   - QS_OVERALL – The Overall quality score assigned for the property\n",
    "   - SALE_COND – The Sale Condition\n",
    "       - Normal: Normal Sale\n",
    "       - Abnorml: Abnormal Sale - trade, foreclosure, short sale\n",
    "       - AdjLand: Adjoining Land Purchase\n",
    "       - Family: Sale between family members\n",
    "       - Partial: Home was not completed when last assessed\n",
    "   - BUILDTYPE – The type of building\n",
    "        - House\n",
    "        - Commercial\n",
    "        - Others\n",
    "\n",
    "\n",
    "\n",
    "## Surrounding and Locality\n",
    "   - AREA – The property in which the real estate is located\n",
    "   - DIST_MAINROAD – The distance of the property to the main road\n",
    "   - PARK_FACIL – Whether parking facility is available\n",
    "   - UTILITY_AVAIL\n",
    "        - AllPub: All public Utilities (E,G,W,& S)\n",
    "        - NoSewr: Electricity, Gas, and Water (Septic Tank)\n",
    "        - NoSeWa: Electricity and Gas Only\n",
    "        - ELO: Electricity only\n",
    "   - STREET\n",
    "        - Gravel\n",
    "        - Paved\n",
    "        - No Access\n",
    "   - MZZONE\n",
    "        - A: Agriculture\n",
    "        - C: Commercial\n",
    "        - I: Industrial\n",
    "        - RH: Residential High Density\n",
    "        - RL: Residential Low Density\n",
    "        - RM: Residential Medium Density\n",
    "        \n",
    "\n",
    "## House Sale Price\n",
    "   - PRT_ID – The Property Transaction ID assigned by ChennaiEstate\n",
    "   - COMMIS – The Commission paid to the agent\n",
    "   - SALES_PRICE – The total sale price of the property\n"
   ]
  },
  {
   "cell_type": "markdown",
   "metadata": {},
   "source": [
    "# Loading the Dataset"
   ]
  },
  {
   "cell_type": "code",
   "execution_count": 1,
   "metadata": {},
   "outputs": [],
   "source": [
    "import pandas as pd\n",
    "import numpy as np\n",
    "\n",
    "import matplotlib.pyplot as plt\n",
    "%matplotlib inline"
   ]
  },
  {
   "cell_type": "code",
   "execution_count": 2,
   "metadata": {},
   "outputs": [
    {
     "data": {
      "text/plain": [
       "(7109, 19)"
      ]
     },
     "execution_count": 2,
     "metadata": {},
     "output_type": "execute_result"
    }
   ],
   "source": [
    "df = pd.read_csv(\"chennai_house_price_prediction.csv\")\n",
    "df.shape"
   ]
  },
  {
   "cell_type": "code",
   "execution_count": 3,
   "metadata": {
    "scrolled": true
   },
   "outputs": [
    {
     "data": {
      "text/html": [
       "<div>\n",
       "<style scoped>\n",
       "    .dataframe tbody tr th:only-of-type {\n",
       "        vertical-align: middle;\n",
       "    }\n",
       "\n",
       "    .dataframe tbody tr th {\n",
       "        vertical-align: top;\n",
       "    }\n",
       "\n",
       "    .dataframe thead th {\n",
       "        text-align: right;\n",
       "    }\n",
       "</style>\n",
       "<table border=\"1\" class=\"dataframe\">\n",
       "  <thead>\n",
       "    <tr style=\"text-align: right;\">\n",
       "      <th></th>\n",
       "      <th>PRT_ID</th>\n",
       "      <th>AREA</th>\n",
       "      <th>INT_SQFT</th>\n",
       "      <th>DIST_MAINROAD</th>\n",
       "      <th>N_BEDROOM</th>\n",
       "      <th>N_BATHROOM</th>\n",
       "      <th>N_ROOM</th>\n",
       "      <th>SALE_COND</th>\n",
       "      <th>PARK_FACIL</th>\n",
       "      <th>BUILDTYPE</th>\n",
       "      <th>UTILITY_AVAIL</th>\n",
       "      <th>STREET</th>\n",
       "      <th>MZZONE</th>\n",
       "      <th>QS_ROOMS</th>\n",
       "      <th>QS_BATHROOM</th>\n",
       "      <th>QS_BEDROOM</th>\n",
       "      <th>QS_OVERALL</th>\n",
       "      <th>COMMIS</th>\n",
       "      <th>SALES_PRICE</th>\n",
       "    </tr>\n",
       "  </thead>\n",
       "  <tbody>\n",
       "    <tr>\n",
       "      <th>0</th>\n",
       "      <td>P03210</td>\n",
       "      <td>Karapakkam</td>\n",
       "      <td>1004</td>\n",
       "      <td>131</td>\n",
       "      <td>1.0</td>\n",
       "      <td>1.0</td>\n",
       "      <td>3</td>\n",
       "      <td>AbNormal</td>\n",
       "      <td>Yes</td>\n",
       "      <td>Commercial</td>\n",
       "      <td>AllPub</td>\n",
       "      <td>Paved</td>\n",
       "      <td>A</td>\n",
       "      <td>4.0</td>\n",
       "      <td>3.9</td>\n",
       "      <td>4.9</td>\n",
       "      <td>4.330</td>\n",
       "      <td>144400</td>\n",
       "      <td>7600000</td>\n",
       "    </tr>\n",
       "    <tr>\n",
       "      <th>1</th>\n",
       "      <td>P09411</td>\n",
       "      <td>Anna Nagar</td>\n",
       "      <td>1986</td>\n",
       "      <td>26</td>\n",
       "      <td>2.0</td>\n",
       "      <td>1.0</td>\n",
       "      <td>5</td>\n",
       "      <td>AbNormal</td>\n",
       "      <td>No</td>\n",
       "      <td>Commercial</td>\n",
       "      <td>AllPub</td>\n",
       "      <td>Gravel</td>\n",
       "      <td>RH</td>\n",
       "      <td>4.9</td>\n",
       "      <td>4.2</td>\n",
       "      <td>2.5</td>\n",
       "      <td>3.765</td>\n",
       "      <td>304049</td>\n",
       "      <td>21717770</td>\n",
       "    </tr>\n",
       "    <tr>\n",
       "      <th>2</th>\n",
       "      <td>P01812</td>\n",
       "      <td>Adyar</td>\n",
       "      <td>909</td>\n",
       "      <td>70</td>\n",
       "      <td>1.0</td>\n",
       "      <td>1.0</td>\n",
       "      <td>3</td>\n",
       "      <td>AbNormal</td>\n",
       "      <td>Yes</td>\n",
       "      <td>Commercial</td>\n",
       "      <td>ELO</td>\n",
       "      <td>Gravel</td>\n",
       "      <td>RL</td>\n",
       "      <td>4.1</td>\n",
       "      <td>3.8</td>\n",
       "      <td>2.2</td>\n",
       "      <td>3.090</td>\n",
       "      <td>92114</td>\n",
       "      <td>13159200</td>\n",
       "    </tr>\n",
       "    <tr>\n",
       "      <th>3</th>\n",
       "      <td>P05346</td>\n",
       "      <td>Velachery</td>\n",
       "      <td>1855</td>\n",
       "      <td>14</td>\n",
       "      <td>3.0</td>\n",
       "      <td>2.0</td>\n",
       "      <td>5</td>\n",
       "      <td>Family</td>\n",
       "      <td>No</td>\n",
       "      <td>Others</td>\n",
       "      <td>NoSewr</td>\n",
       "      <td>Paved</td>\n",
       "      <td>I</td>\n",
       "      <td>4.7</td>\n",
       "      <td>3.9</td>\n",
       "      <td>3.6</td>\n",
       "      <td>4.010</td>\n",
       "      <td>77042</td>\n",
       "      <td>9630290</td>\n",
       "    </tr>\n",
       "    <tr>\n",
       "      <th>4</th>\n",
       "      <td>P06210</td>\n",
       "      <td>Karapakkam</td>\n",
       "      <td>1226</td>\n",
       "      <td>84</td>\n",
       "      <td>1.0</td>\n",
       "      <td>1.0</td>\n",
       "      <td>3</td>\n",
       "      <td>AbNormal</td>\n",
       "      <td>Yes</td>\n",
       "      <td>Others</td>\n",
       "      <td>AllPub</td>\n",
       "      <td>Gravel</td>\n",
       "      <td>C</td>\n",
       "      <td>3.0</td>\n",
       "      <td>2.5</td>\n",
       "      <td>4.1</td>\n",
       "      <td>3.290</td>\n",
       "      <td>74063</td>\n",
       "      <td>7406250</td>\n",
       "    </tr>\n",
       "  </tbody>\n",
       "</table>\n",
       "</div>"
      ],
      "text/plain": [
       "   PRT_ID        AREA  INT_SQFT  DIST_MAINROAD  N_BEDROOM  N_BATHROOM  N_ROOM  \\\n",
       "0  P03210  Karapakkam      1004            131        1.0         1.0       3   \n",
       "1  P09411  Anna Nagar      1986             26        2.0         1.0       5   \n",
       "2  P01812       Adyar       909             70        1.0         1.0       3   \n",
       "3  P05346   Velachery      1855             14        3.0         2.0       5   \n",
       "4  P06210  Karapakkam      1226             84        1.0         1.0       3   \n",
       "\n",
       "  SALE_COND PARK_FACIL   BUILDTYPE UTILITY_AVAIL  STREET MZZONE  QS_ROOMS  \\\n",
       "0  AbNormal        Yes  Commercial        AllPub   Paved      A       4.0   \n",
       "1  AbNormal         No  Commercial        AllPub  Gravel     RH       4.9   \n",
       "2  AbNormal        Yes  Commercial           ELO  Gravel     RL       4.1   \n",
       "3    Family         No      Others       NoSewr    Paved      I       4.7   \n",
       "4  AbNormal        Yes      Others        AllPub  Gravel      C       3.0   \n",
       "\n",
       "   QS_BATHROOM  QS_BEDROOM  QS_OVERALL  COMMIS  SALES_PRICE  \n",
       "0          3.9         4.9       4.330  144400      7600000  \n",
       "1          4.2         2.5       3.765  304049     21717770  \n",
       "2          3.8         2.2       3.090   92114     13159200  \n",
       "3          3.9         3.6       4.010   77042      9630290  \n",
       "4          2.5         4.1       3.290   74063      7406250  "
      ]
     },
     "execution_count": 3,
     "metadata": {},
     "output_type": "execute_result"
    }
   ],
   "source": [
    "df.head()"
   ]
  },
  {
   "cell_type": "markdown",
   "metadata": {},
   "source": [
    "# Data Exploration"
   ]
  },
  {
   "cell_type": "markdown",
   "metadata": {},
   "source": [
    "### Describe function"
   ]
  },
  {
   "cell_type": "code",
   "execution_count": 4,
   "metadata": {
    "scrolled": true
   },
   "outputs": [
    {
     "data": {
      "text/html": [
       "<div>\n",
       "<style scoped>\n",
       "    .dataframe tbody tr th:only-of-type {\n",
       "        vertical-align: middle;\n",
       "    }\n",
       "\n",
       "    .dataframe tbody tr th {\n",
       "        vertical-align: top;\n",
       "    }\n",
       "\n",
       "    .dataframe thead th {\n",
       "        text-align: right;\n",
       "    }\n",
       "</style>\n",
       "<table border=\"1\" class=\"dataframe\">\n",
       "  <thead>\n",
       "    <tr style=\"text-align: right;\">\n",
       "      <th></th>\n",
       "      <th>INT_SQFT</th>\n",
       "      <th>DIST_MAINROAD</th>\n",
       "      <th>N_BEDROOM</th>\n",
       "      <th>N_BATHROOM</th>\n",
       "      <th>N_ROOM</th>\n",
       "      <th>QS_ROOMS</th>\n",
       "      <th>QS_BATHROOM</th>\n",
       "      <th>QS_BEDROOM</th>\n",
       "      <th>QS_OVERALL</th>\n",
       "      <th>COMMIS</th>\n",
       "      <th>SALES_PRICE</th>\n",
       "    </tr>\n",
       "  </thead>\n",
       "  <tbody>\n",
       "    <tr>\n",
       "      <th>count</th>\n",
       "      <td>7109.000000</td>\n",
       "      <td>7109.000000</td>\n",
       "      <td>7108.000000</td>\n",
       "      <td>7104.000000</td>\n",
       "      <td>7109.000000</td>\n",
       "      <td>7109.000000</td>\n",
       "      <td>7109.000000</td>\n",
       "      <td>7109.000000</td>\n",
       "      <td>7061.000000</td>\n",
       "      <td>7109.000000</td>\n",
       "      <td>7.109000e+03</td>\n",
       "    </tr>\n",
       "    <tr>\n",
       "      <th>mean</th>\n",
       "      <td>1382.073006</td>\n",
       "      <td>99.603179</td>\n",
       "      <td>1.637029</td>\n",
       "      <td>1.213260</td>\n",
       "      <td>3.688704</td>\n",
       "      <td>3.517471</td>\n",
       "      <td>3.507244</td>\n",
       "      <td>3.485300</td>\n",
       "      <td>3.503254</td>\n",
       "      <td>141005.726544</td>\n",
       "      <td>1.089491e+07</td>\n",
       "    </tr>\n",
       "    <tr>\n",
       "      <th>std</th>\n",
       "      <td>457.410902</td>\n",
       "      <td>57.403110</td>\n",
       "      <td>0.802902</td>\n",
       "      <td>0.409639</td>\n",
       "      <td>1.019099</td>\n",
       "      <td>0.891972</td>\n",
       "      <td>0.897834</td>\n",
       "      <td>0.887266</td>\n",
       "      <td>0.527223</td>\n",
       "      <td>78768.093718</td>\n",
       "      <td>3.768603e+06</td>\n",
       "    </tr>\n",
       "    <tr>\n",
       "      <th>min</th>\n",
       "      <td>500.000000</td>\n",
       "      <td>0.000000</td>\n",
       "      <td>1.000000</td>\n",
       "      <td>1.000000</td>\n",
       "      <td>2.000000</td>\n",
       "      <td>2.000000</td>\n",
       "      <td>2.000000</td>\n",
       "      <td>2.000000</td>\n",
       "      <td>2.000000</td>\n",
       "      <td>5055.000000</td>\n",
       "      <td>2.156875e+06</td>\n",
       "    </tr>\n",
       "    <tr>\n",
       "      <th>25%</th>\n",
       "      <td>993.000000</td>\n",
       "      <td>50.000000</td>\n",
       "      <td>1.000000</td>\n",
       "      <td>1.000000</td>\n",
       "      <td>3.000000</td>\n",
       "      <td>2.700000</td>\n",
       "      <td>2.700000</td>\n",
       "      <td>2.700000</td>\n",
       "      <td>3.130000</td>\n",
       "      <td>84219.000000</td>\n",
       "      <td>8.272100e+06</td>\n",
       "    </tr>\n",
       "    <tr>\n",
       "      <th>50%</th>\n",
       "      <td>1373.000000</td>\n",
       "      <td>99.000000</td>\n",
       "      <td>1.000000</td>\n",
       "      <td>1.000000</td>\n",
       "      <td>4.000000</td>\n",
       "      <td>3.500000</td>\n",
       "      <td>3.500000</td>\n",
       "      <td>3.500000</td>\n",
       "      <td>3.500000</td>\n",
       "      <td>127628.000000</td>\n",
       "      <td>1.033505e+07</td>\n",
       "    </tr>\n",
       "    <tr>\n",
       "      <th>75%</th>\n",
       "      <td>1744.000000</td>\n",
       "      <td>148.000000</td>\n",
       "      <td>2.000000</td>\n",
       "      <td>1.000000</td>\n",
       "      <td>4.000000</td>\n",
       "      <td>4.300000</td>\n",
       "      <td>4.300000</td>\n",
       "      <td>4.300000</td>\n",
       "      <td>3.890000</td>\n",
       "      <td>184506.000000</td>\n",
       "      <td>1.299390e+07</td>\n",
       "    </tr>\n",
       "    <tr>\n",
       "      <th>max</th>\n",
       "      <td>2500.000000</td>\n",
       "      <td>200.000000</td>\n",
       "      <td>4.000000</td>\n",
       "      <td>2.000000</td>\n",
       "      <td>6.000000</td>\n",
       "      <td>5.000000</td>\n",
       "      <td>5.000000</td>\n",
       "      <td>5.000000</td>\n",
       "      <td>4.970000</td>\n",
       "      <td>495405.000000</td>\n",
       "      <td>2.366734e+07</td>\n",
       "    </tr>\n",
       "  </tbody>\n",
       "</table>\n",
       "</div>"
      ],
      "text/plain": [
       "          INT_SQFT  DIST_MAINROAD    N_BEDROOM   N_BATHROOM       N_ROOM  \\\n",
       "count  7109.000000    7109.000000  7108.000000  7104.000000  7109.000000   \n",
       "mean   1382.073006      99.603179     1.637029     1.213260     3.688704   \n",
       "std     457.410902      57.403110     0.802902     0.409639     1.019099   \n",
       "min     500.000000       0.000000     1.000000     1.000000     2.000000   \n",
       "25%     993.000000      50.000000     1.000000     1.000000     3.000000   \n",
       "50%    1373.000000      99.000000     1.000000     1.000000     4.000000   \n",
       "75%    1744.000000     148.000000     2.000000     1.000000     4.000000   \n",
       "max    2500.000000     200.000000     4.000000     2.000000     6.000000   \n",
       "\n",
       "          QS_ROOMS  QS_BATHROOM   QS_BEDROOM   QS_OVERALL         COMMIS  \\\n",
       "count  7109.000000  7109.000000  7109.000000  7061.000000    7109.000000   \n",
       "mean      3.517471     3.507244     3.485300     3.503254  141005.726544   \n",
       "std       0.891972     0.897834     0.887266     0.527223   78768.093718   \n",
       "min       2.000000     2.000000     2.000000     2.000000    5055.000000   \n",
       "25%       2.700000     2.700000     2.700000     3.130000   84219.000000   \n",
       "50%       3.500000     3.500000     3.500000     3.500000  127628.000000   \n",
       "75%       4.300000     4.300000     4.300000     3.890000  184506.000000   \n",
       "max       5.000000     5.000000     5.000000     4.970000  495405.000000   \n",
       "\n",
       "        SALES_PRICE  \n",
       "count  7.109000e+03  \n",
       "mean   1.089491e+07  \n",
       "std    3.768603e+06  \n",
       "min    2.156875e+06  \n",
       "25%    8.272100e+06  \n",
       "50%    1.033505e+07  \n",
       "75%    1.299390e+07  \n",
       "max    2.366734e+07  "
      ]
     },
     "execution_count": 4,
     "metadata": {},
     "output_type": "execute_result"
    }
   ],
   "source": [
    "df.describe()"
   ]
  },
  {
   "cell_type": "markdown",
   "metadata": {},
   "source": [
    "- The describe function works only for continuous variables\n",
    "- We can identify the number of missing values from the 'count' given\n",
    "- Comparing the 75% and the max value, determine presence of outliers"
   ]
  },
  {
   "cell_type": "code",
   "execution_count": 5,
   "metadata": {
    "scrolled": true
   },
   "outputs": [
    {
     "data": {
      "text/html": [
       "<div>\n",
       "<style scoped>\n",
       "    .dataframe tbody tr th:only-of-type {\n",
       "        vertical-align: middle;\n",
       "    }\n",
       "\n",
       "    .dataframe tbody tr th {\n",
       "        vertical-align: top;\n",
       "    }\n",
       "\n",
       "    .dataframe thead th {\n",
       "        text-align: right;\n",
       "    }\n",
       "</style>\n",
       "<table border=\"1\" class=\"dataframe\">\n",
       "  <thead>\n",
       "    <tr style=\"text-align: right;\">\n",
       "      <th></th>\n",
       "      <th>PRT_ID</th>\n",
       "      <th>AREA</th>\n",
       "      <th>INT_SQFT</th>\n",
       "      <th>DIST_MAINROAD</th>\n",
       "      <th>N_BEDROOM</th>\n",
       "      <th>N_BATHROOM</th>\n",
       "      <th>N_ROOM</th>\n",
       "      <th>SALE_COND</th>\n",
       "      <th>PARK_FACIL</th>\n",
       "      <th>BUILDTYPE</th>\n",
       "      <th>UTILITY_AVAIL</th>\n",
       "      <th>STREET</th>\n",
       "      <th>MZZONE</th>\n",
       "      <th>QS_ROOMS</th>\n",
       "      <th>QS_BATHROOM</th>\n",
       "      <th>QS_BEDROOM</th>\n",
       "      <th>QS_OVERALL</th>\n",
       "      <th>COMMIS</th>\n",
       "      <th>SALES_PRICE</th>\n",
       "    </tr>\n",
       "  </thead>\n",
       "  <tbody>\n",
       "    <tr>\n",
       "      <th>count</th>\n",
       "      <td>7109</td>\n",
       "      <td>7109</td>\n",
       "      <td>7109.000000</td>\n",
       "      <td>7109.000000</td>\n",
       "      <td>7108.000000</td>\n",
       "      <td>7104.000000</td>\n",
       "      <td>7109.000000</td>\n",
       "      <td>7109</td>\n",
       "      <td>7109</td>\n",
       "      <td>7109</td>\n",
       "      <td>7109</td>\n",
       "      <td>7109</td>\n",
       "      <td>7109</td>\n",
       "      <td>7109.000000</td>\n",
       "      <td>7109.000000</td>\n",
       "      <td>7109.000000</td>\n",
       "      <td>7061.000000</td>\n",
       "      <td>7109.000000</td>\n",
       "      <td>7.109000e+03</td>\n",
       "    </tr>\n",
       "    <tr>\n",
       "      <th>unique</th>\n",
       "      <td>7109</td>\n",
       "      <td>17</td>\n",
       "      <td>NaN</td>\n",
       "      <td>NaN</td>\n",
       "      <td>NaN</td>\n",
       "      <td>NaN</td>\n",
       "      <td>NaN</td>\n",
       "      <td>9</td>\n",
       "      <td>3</td>\n",
       "      <td>5</td>\n",
       "      <td>5</td>\n",
       "      <td>5</td>\n",
       "      <td>6</td>\n",
       "      <td>NaN</td>\n",
       "      <td>NaN</td>\n",
       "      <td>NaN</td>\n",
       "      <td>NaN</td>\n",
       "      <td>NaN</td>\n",
       "      <td>NaN</td>\n",
       "    </tr>\n",
       "    <tr>\n",
       "      <th>top</th>\n",
       "      <td>P04027</td>\n",
       "      <td>Chrompet</td>\n",
       "      <td>NaN</td>\n",
       "      <td>NaN</td>\n",
       "      <td>NaN</td>\n",
       "      <td>NaN</td>\n",
       "      <td>NaN</td>\n",
       "      <td>AdjLand</td>\n",
       "      <td>Yes</td>\n",
       "      <td>House</td>\n",
       "      <td>AllPub</td>\n",
       "      <td>Paved</td>\n",
       "      <td>RL</td>\n",
       "      <td>NaN</td>\n",
       "      <td>NaN</td>\n",
       "      <td>NaN</td>\n",
       "      <td>NaN</td>\n",
       "      <td>NaN</td>\n",
       "      <td>NaN</td>\n",
       "    </tr>\n",
       "    <tr>\n",
       "      <th>freq</th>\n",
       "      <td>1</td>\n",
       "      <td>1681</td>\n",
       "      <td>NaN</td>\n",
       "      <td>NaN</td>\n",
       "      <td>NaN</td>\n",
       "      <td>NaN</td>\n",
       "      <td>NaN</td>\n",
       "      <td>1433</td>\n",
       "      <td>3587</td>\n",
       "      <td>2444</td>\n",
       "      <td>1886</td>\n",
       "      <td>2560</td>\n",
       "      <td>1858</td>\n",
       "      <td>NaN</td>\n",
       "      <td>NaN</td>\n",
       "      <td>NaN</td>\n",
       "      <td>NaN</td>\n",
       "      <td>NaN</td>\n",
       "      <td>NaN</td>\n",
       "    </tr>\n",
       "    <tr>\n",
       "      <th>mean</th>\n",
       "      <td>NaN</td>\n",
       "      <td>NaN</td>\n",
       "      <td>1382.073006</td>\n",
       "      <td>99.603179</td>\n",
       "      <td>1.637029</td>\n",
       "      <td>1.213260</td>\n",
       "      <td>3.688704</td>\n",
       "      <td>NaN</td>\n",
       "      <td>NaN</td>\n",
       "      <td>NaN</td>\n",
       "      <td>NaN</td>\n",
       "      <td>NaN</td>\n",
       "      <td>NaN</td>\n",
       "      <td>3.517471</td>\n",
       "      <td>3.507244</td>\n",
       "      <td>3.485300</td>\n",
       "      <td>3.503254</td>\n",
       "      <td>141005.726544</td>\n",
       "      <td>1.089491e+07</td>\n",
       "    </tr>\n",
       "    <tr>\n",
       "      <th>std</th>\n",
       "      <td>NaN</td>\n",
       "      <td>NaN</td>\n",
       "      <td>457.410902</td>\n",
       "      <td>57.403110</td>\n",
       "      <td>0.802902</td>\n",
       "      <td>0.409639</td>\n",
       "      <td>1.019099</td>\n",
       "      <td>NaN</td>\n",
       "      <td>NaN</td>\n",
       "      <td>NaN</td>\n",
       "      <td>NaN</td>\n",
       "      <td>NaN</td>\n",
       "      <td>NaN</td>\n",
       "      <td>0.891972</td>\n",
       "      <td>0.897834</td>\n",
       "      <td>0.887266</td>\n",
       "      <td>0.527223</td>\n",
       "      <td>78768.093718</td>\n",
       "      <td>3.768603e+06</td>\n",
       "    </tr>\n",
       "    <tr>\n",
       "      <th>min</th>\n",
       "      <td>NaN</td>\n",
       "      <td>NaN</td>\n",
       "      <td>500.000000</td>\n",
       "      <td>0.000000</td>\n",
       "      <td>1.000000</td>\n",
       "      <td>1.000000</td>\n",
       "      <td>2.000000</td>\n",
       "      <td>NaN</td>\n",
       "      <td>NaN</td>\n",
       "      <td>NaN</td>\n",
       "      <td>NaN</td>\n",
       "      <td>NaN</td>\n",
       "      <td>NaN</td>\n",
       "      <td>2.000000</td>\n",
       "      <td>2.000000</td>\n",
       "      <td>2.000000</td>\n",
       "      <td>2.000000</td>\n",
       "      <td>5055.000000</td>\n",
       "      <td>2.156875e+06</td>\n",
       "    </tr>\n",
       "    <tr>\n",
       "      <th>25%</th>\n",
       "      <td>NaN</td>\n",
       "      <td>NaN</td>\n",
       "      <td>993.000000</td>\n",
       "      <td>50.000000</td>\n",
       "      <td>1.000000</td>\n",
       "      <td>1.000000</td>\n",
       "      <td>3.000000</td>\n",
       "      <td>NaN</td>\n",
       "      <td>NaN</td>\n",
       "      <td>NaN</td>\n",
       "      <td>NaN</td>\n",
       "      <td>NaN</td>\n",
       "      <td>NaN</td>\n",
       "      <td>2.700000</td>\n",
       "      <td>2.700000</td>\n",
       "      <td>2.700000</td>\n",
       "      <td>3.130000</td>\n",
       "      <td>84219.000000</td>\n",
       "      <td>8.272100e+06</td>\n",
       "    </tr>\n",
       "    <tr>\n",
       "      <th>50%</th>\n",
       "      <td>NaN</td>\n",
       "      <td>NaN</td>\n",
       "      <td>1373.000000</td>\n",
       "      <td>99.000000</td>\n",
       "      <td>1.000000</td>\n",
       "      <td>1.000000</td>\n",
       "      <td>4.000000</td>\n",
       "      <td>NaN</td>\n",
       "      <td>NaN</td>\n",
       "      <td>NaN</td>\n",
       "      <td>NaN</td>\n",
       "      <td>NaN</td>\n",
       "      <td>NaN</td>\n",
       "      <td>3.500000</td>\n",
       "      <td>3.500000</td>\n",
       "      <td>3.500000</td>\n",
       "      <td>3.500000</td>\n",
       "      <td>127628.000000</td>\n",
       "      <td>1.033505e+07</td>\n",
       "    </tr>\n",
       "    <tr>\n",
       "      <th>75%</th>\n",
       "      <td>NaN</td>\n",
       "      <td>NaN</td>\n",
       "      <td>1744.000000</td>\n",
       "      <td>148.000000</td>\n",
       "      <td>2.000000</td>\n",
       "      <td>1.000000</td>\n",
       "      <td>4.000000</td>\n",
       "      <td>NaN</td>\n",
       "      <td>NaN</td>\n",
       "      <td>NaN</td>\n",
       "      <td>NaN</td>\n",
       "      <td>NaN</td>\n",
       "      <td>NaN</td>\n",
       "      <td>4.300000</td>\n",
       "      <td>4.300000</td>\n",
       "      <td>4.300000</td>\n",
       "      <td>3.890000</td>\n",
       "      <td>184506.000000</td>\n",
       "      <td>1.299390e+07</td>\n",
       "    </tr>\n",
       "    <tr>\n",
       "      <th>max</th>\n",
       "      <td>NaN</td>\n",
       "      <td>NaN</td>\n",
       "      <td>2500.000000</td>\n",
       "      <td>200.000000</td>\n",
       "      <td>4.000000</td>\n",
       "      <td>2.000000</td>\n",
       "      <td>6.000000</td>\n",
       "      <td>NaN</td>\n",
       "      <td>NaN</td>\n",
       "      <td>NaN</td>\n",
       "      <td>NaN</td>\n",
       "      <td>NaN</td>\n",
       "      <td>NaN</td>\n",
       "      <td>5.000000</td>\n",
       "      <td>5.000000</td>\n",
       "      <td>5.000000</td>\n",
       "      <td>4.970000</td>\n",
       "      <td>495405.000000</td>\n",
       "      <td>2.366734e+07</td>\n",
       "    </tr>\n",
       "  </tbody>\n",
       "</table>\n",
       "</div>"
      ],
      "text/plain": [
       "        PRT_ID      AREA     INT_SQFT  DIST_MAINROAD    N_BEDROOM  \\\n",
       "count     7109      7109  7109.000000    7109.000000  7108.000000   \n",
       "unique    7109        17          NaN            NaN          NaN   \n",
       "top     P04027  Chrompet          NaN            NaN          NaN   \n",
       "freq         1      1681          NaN            NaN          NaN   \n",
       "mean       NaN       NaN  1382.073006      99.603179     1.637029   \n",
       "std        NaN       NaN   457.410902      57.403110     0.802902   \n",
       "min        NaN       NaN   500.000000       0.000000     1.000000   \n",
       "25%        NaN       NaN   993.000000      50.000000     1.000000   \n",
       "50%        NaN       NaN  1373.000000      99.000000     1.000000   \n",
       "75%        NaN       NaN  1744.000000     148.000000     2.000000   \n",
       "max        NaN       NaN  2500.000000     200.000000     4.000000   \n",
       "\n",
       "         N_BATHROOM       N_ROOM SALE_COND PARK_FACIL BUILDTYPE UTILITY_AVAIL  \\\n",
       "count   7104.000000  7109.000000      7109       7109      7109          7109   \n",
       "unique          NaN          NaN         9          3         5             5   \n",
       "top             NaN          NaN   AdjLand        Yes     House        AllPub   \n",
       "freq            NaN          NaN      1433       3587      2444          1886   \n",
       "mean       1.213260     3.688704       NaN        NaN       NaN           NaN   \n",
       "std        0.409639     1.019099       NaN        NaN       NaN           NaN   \n",
       "min        1.000000     2.000000       NaN        NaN       NaN           NaN   \n",
       "25%        1.000000     3.000000       NaN        NaN       NaN           NaN   \n",
       "50%        1.000000     4.000000       NaN        NaN       NaN           NaN   \n",
       "75%        1.000000     4.000000       NaN        NaN       NaN           NaN   \n",
       "max        2.000000     6.000000       NaN        NaN       NaN           NaN   \n",
       "\n",
       "       STREET MZZONE     QS_ROOMS  QS_BATHROOM   QS_BEDROOM   QS_OVERALL  \\\n",
       "count    7109   7109  7109.000000  7109.000000  7109.000000  7061.000000   \n",
       "unique      5      6          NaN          NaN          NaN          NaN   \n",
       "top     Paved     RL          NaN          NaN          NaN          NaN   \n",
       "freq     2560   1858          NaN          NaN          NaN          NaN   \n",
       "mean      NaN    NaN     3.517471     3.507244     3.485300     3.503254   \n",
       "std       NaN    NaN     0.891972     0.897834     0.887266     0.527223   \n",
       "min       NaN    NaN     2.000000     2.000000     2.000000     2.000000   \n",
       "25%       NaN    NaN     2.700000     2.700000     2.700000     3.130000   \n",
       "50%       NaN    NaN     3.500000     3.500000     3.500000     3.500000   \n",
       "75%       NaN    NaN     4.300000     4.300000     4.300000     3.890000   \n",
       "max       NaN    NaN     5.000000     5.000000     5.000000     4.970000   \n",
       "\n",
       "               COMMIS   SALES_PRICE  \n",
       "count     7109.000000  7.109000e+03  \n",
       "unique            NaN           NaN  \n",
       "top               NaN           NaN  \n",
       "freq              NaN           NaN  \n",
       "mean    141005.726544  1.089491e+07  \n",
       "std      78768.093718  3.768603e+06  \n",
       "min       5055.000000  2.156875e+06  \n",
       "25%      84219.000000  8.272100e+06  \n",
       "50%     127628.000000  1.033505e+07  \n",
       "75%     184506.000000  1.299390e+07  \n",
       "max     495405.000000  2.366734e+07  "
      ]
     },
     "execution_count": 5,
     "metadata": {},
     "output_type": "execute_result"
    }
   ],
   "source": [
    "df.describe(include='all')"
   ]
  },
  {
   "cell_type": "markdown",
   "metadata": {},
   "source": [
    "- Count can be used to find out missing values\n",
    "- Gives unique values for categorical variables"
   ]
  },
  {
   "cell_type": "markdown",
   "metadata": {},
   "source": [
    "### Isnull function"
   ]
  },
  {
   "cell_type": "code",
   "execution_count": 6,
   "metadata": {},
   "outputs": [
    {
     "data": {
      "text/plain": [
       "PRT_ID            0\n",
       "AREA              0\n",
       "INT_SQFT          0\n",
       "DIST_MAINROAD     0\n",
       "N_BEDROOM         1\n",
       "N_BATHROOM        5\n",
       "N_ROOM            0\n",
       "SALE_COND         0\n",
       "PARK_FACIL        0\n",
       "BUILDTYPE         0\n",
       "UTILITY_AVAIL     0\n",
       "STREET            0\n",
       "MZZONE            0\n",
       "QS_ROOMS          0\n",
       "QS_BATHROOM       0\n",
       "QS_BEDROOM        0\n",
       "QS_OVERALL       48\n",
       "COMMIS            0\n",
       "SALES_PRICE       0\n",
       "dtype: int64"
      ]
     },
     "execution_count": 6,
     "metadata": {},
     "output_type": "execute_result"
    }
   ],
   "source": [
    "df.isnull().sum()"
   ]
  },
  {
   "cell_type": "markdown",
   "metadata": {},
   "source": [
    "### Data types"
   ]
  },
  {
   "cell_type": "code",
   "execution_count": 7,
   "metadata": {
    "scrolled": true
   },
   "outputs": [
    {
     "data": {
      "text/plain": [
       "PRT_ID            object\n",
       "AREA              object\n",
       "INT_SQFT           int64\n",
       "DIST_MAINROAD      int64\n",
       "N_BEDROOM        float64\n",
       "N_BATHROOM       float64\n",
       "N_ROOM             int64\n",
       "SALE_COND         object\n",
       "PARK_FACIL        object\n",
       "BUILDTYPE         object\n",
       "UTILITY_AVAIL     object\n",
       "STREET            object\n",
       "MZZONE            object\n",
       "QS_ROOMS         float64\n",
       "QS_BATHROOM      float64\n",
       "QS_BEDROOM       float64\n",
       "QS_OVERALL       float64\n",
       "COMMIS             int64\n",
       "SALES_PRICE        int64\n",
       "dtype: object"
      ]
     },
     "execution_count": 7,
     "metadata": {},
     "output_type": "execute_result"
    }
   ],
   "source": [
    "df.dtypes"
   ]
  },
  {
   "cell_type": "code",
   "execution_count": 8,
   "metadata": {},
   "outputs": [],
   "source": [
    "temp = pd.DataFrame(index=df.columns)\n",
    "temp['data_type'] = df.dtypes\n",
    "temp['null_count'] = df.isnull().sum()\n",
    "temp['unique_count'] = df.nunique()"
   ]
  },
  {
   "cell_type": "code",
   "execution_count": 9,
   "metadata": {},
   "outputs": [
    {
     "data": {
      "text/html": [
       "<div>\n",
       "<style scoped>\n",
       "    .dataframe tbody tr th:only-of-type {\n",
       "        vertical-align: middle;\n",
       "    }\n",
       "\n",
       "    .dataframe tbody tr th {\n",
       "        vertical-align: top;\n",
       "    }\n",
       "\n",
       "    .dataframe thead th {\n",
       "        text-align: right;\n",
       "    }\n",
       "</style>\n",
       "<table border=\"1\" class=\"dataframe\">\n",
       "  <thead>\n",
       "    <tr style=\"text-align: right;\">\n",
       "      <th></th>\n",
       "      <th>data_type</th>\n",
       "      <th>null_count</th>\n",
       "      <th>unique_count</th>\n",
       "    </tr>\n",
       "  </thead>\n",
       "  <tbody>\n",
       "    <tr>\n",
       "      <th>PRT_ID</th>\n",
       "      <td>object</td>\n",
       "      <td>0</td>\n",
       "      <td>7109</td>\n",
       "    </tr>\n",
       "    <tr>\n",
       "      <th>AREA</th>\n",
       "      <td>object</td>\n",
       "      <td>0</td>\n",
       "      <td>17</td>\n",
       "    </tr>\n",
       "    <tr>\n",
       "      <th>INT_SQFT</th>\n",
       "      <td>int64</td>\n",
       "      <td>0</td>\n",
       "      <td>1699</td>\n",
       "    </tr>\n",
       "    <tr>\n",
       "      <th>DIST_MAINROAD</th>\n",
       "      <td>int64</td>\n",
       "      <td>0</td>\n",
       "      <td>201</td>\n",
       "    </tr>\n",
       "    <tr>\n",
       "      <th>N_BEDROOM</th>\n",
       "      <td>float64</td>\n",
       "      <td>1</td>\n",
       "      <td>4</td>\n",
       "    </tr>\n",
       "    <tr>\n",
       "      <th>N_BATHROOM</th>\n",
       "      <td>float64</td>\n",
       "      <td>5</td>\n",
       "      <td>2</td>\n",
       "    </tr>\n",
       "    <tr>\n",
       "      <th>N_ROOM</th>\n",
       "      <td>int64</td>\n",
       "      <td>0</td>\n",
       "      <td>5</td>\n",
       "    </tr>\n",
       "    <tr>\n",
       "      <th>SALE_COND</th>\n",
       "      <td>object</td>\n",
       "      <td>0</td>\n",
       "      <td>9</td>\n",
       "    </tr>\n",
       "    <tr>\n",
       "      <th>PARK_FACIL</th>\n",
       "      <td>object</td>\n",
       "      <td>0</td>\n",
       "      <td>3</td>\n",
       "    </tr>\n",
       "    <tr>\n",
       "      <th>BUILDTYPE</th>\n",
       "      <td>object</td>\n",
       "      <td>0</td>\n",
       "      <td>5</td>\n",
       "    </tr>\n",
       "    <tr>\n",
       "      <th>UTILITY_AVAIL</th>\n",
       "      <td>object</td>\n",
       "      <td>0</td>\n",
       "      <td>5</td>\n",
       "    </tr>\n",
       "    <tr>\n",
       "      <th>STREET</th>\n",
       "      <td>object</td>\n",
       "      <td>0</td>\n",
       "      <td>5</td>\n",
       "    </tr>\n",
       "    <tr>\n",
       "      <th>MZZONE</th>\n",
       "      <td>object</td>\n",
       "      <td>0</td>\n",
       "      <td>6</td>\n",
       "    </tr>\n",
       "    <tr>\n",
       "      <th>QS_ROOMS</th>\n",
       "      <td>float64</td>\n",
       "      <td>0</td>\n",
       "      <td>31</td>\n",
       "    </tr>\n",
       "    <tr>\n",
       "      <th>QS_BATHROOM</th>\n",
       "      <td>float64</td>\n",
       "      <td>0</td>\n",
       "      <td>31</td>\n",
       "    </tr>\n",
       "    <tr>\n",
       "      <th>QS_BEDROOM</th>\n",
       "      <td>float64</td>\n",
       "      <td>0</td>\n",
       "      <td>31</td>\n",
       "    </tr>\n",
       "    <tr>\n",
       "      <th>QS_OVERALL</th>\n",
       "      <td>float64</td>\n",
       "      <td>48</td>\n",
       "      <td>479</td>\n",
       "    </tr>\n",
       "    <tr>\n",
       "      <th>COMMIS</th>\n",
       "      <td>int64</td>\n",
       "      <td>0</td>\n",
       "      <td>7011</td>\n",
       "    </tr>\n",
       "    <tr>\n",
       "      <th>SALES_PRICE</th>\n",
       "      <td>int64</td>\n",
       "      <td>0</td>\n",
       "      <td>7057</td>\n",
       "    </tr>\n",
       "  </tbody>\n",
       "</table>\n",
       "</div>"
      ],
      "text/plain": [
       "              data_type  null_count  unique_count\n",
       "PRT_ID           object           0          7109\n",
       "AREA             object           0            17\n",
       "INT_SQFT          int64           0          1699\n",
       "DIST_MAINROAD     int64           0           201\n",
       "N_BEDROOM       float64           1             4\n",
       "N_BATHROOM      float64           5             2\n",
       "N_ROOM            int64           0             5\n",
       "SALE_COND        object           0             9\n",
       "PARK_FACIL       object           0             3\n",
       "BUILDTYPE        object           0             5\n",
       "UTILITY_AVAIL    object           0             5\n",
       "STREET           object           0             5\n",
       "MZZONE           object           0             6\n",
       "QS_ROOMS        float64           0            31\n",
       "QS_BATHROOM     float64           0            31\n",
       "QS_BEDROOM      float64           0            31\n",
       "QS_OVERALL      float64          48           479\n",
       "COMMIS            int64           0          7011\n",
       "SALES_PRICE       int64           0          7057"
      ]
     },
     "execution_count": 9,
     "metadata": {},
     "output_type": "execute_result"
    }
   ],
   "source": [
    "temp"
   ]
  },
  {
   "cell_type": "markdown",
   "metadata": {},
   "source": [
    "## Univariate Analysis"
   ]
  },
  {
   "cell_type": "markdown",
   "metadata": {},
   "source": [
    "### Histogram"
   ]
  },
  {
   "cell_type": "code",
   "execution_count": 10,
   "metadata": {},
   "outputs": [
    {
     "data": {
      "text/plain": [
       "Text(0.5, 0, 'Sales')"
      ]
     },
     "execution_count": 10,
     "metadata": {},
     "output_type": "execute_result"
    },
    {
     "data": {
      "image/png": "[encoded data removed]",
      "text/plain": [
       "<Figure size 432x288 with 1 Axes>"
      ]
     },
     "metadata": {
      "needs_background": "light"
     },
     "output_type": "display_data"
    }
   ],
   "source": [
    "## target variable \n",
    "\n",
    "df['SALES_PRICE'].plot.hist(bins = 50)\n",
    "plt.xlabel('Sales', fontsize=12)"
   ]
  },
  {
   "cell_type": "markdown",
   "metadata": {},
   "source": [
    "- The distribution of the target variable is slightly right skewed. \n",
    "- We can see a small number of houses with a very high price. "
   ]
  },
  {
   "cell_type": "code",
   "execution_count": 11,
   "metadata": {
    "scrolled": true
   },
   "outputs": [
    {
     "data": {
      "text/plain": [
       "<matplotlib.axes._subplots.AxesSubplot at 0x204d6322370>"
      ]
     },
     "execution_count": 11,
     "metadata": {},
     "output_type": "execute_result"
    },
    {
     "data": {
      "image/png": "[encoded data removed]",
      "text/plain": [
       "<Figure size 432x288 with 1 Axes>"
      ]
     },
     "metadata": {
      "needs_background": "light"
     },
     "output_type": "display_data"
    }
   ],
   "source": [
    "(df['SALES_PRICE'].loc[df['SALES_PRICE']<18000000]).plot.hist(bins=50)"
   ]
  },
  {
   "cell_type": "code",
   "execution_count": 12,
   "metadata": {},
   "outputs": [
    {
     "data": {
      "text/plain": [
       "Text(0.5, 0, 'Area in sq feet')"
      ]
     },
     "execution_count": 12,
     "metadata": {},
     "output_type": "execute_result"
    },
    {
     "data": {
      "image/png": "[encoded data removed]",
      "text/plain": [
       "<Figure size 432x288 with 1 Axes>"
      ]
     },
     "metadata": {
      "needs_background": "light"
     },
     "output_type": "display_data"
    }
   ],
   "source": [
    "## Area of house in Square feet\n",
    "\n",
    "df['INT_SQFT'].plot.hist(bins = 50)\n",
    "plt.xlabel('Area in sq feet', fontsize=12)"
   ]
  },
  {
   "cell_type": "markdown",
   "metadata": {},
   "source": [
    "- Most houses have the area between **750 sq feet to 1250 sq feet** or around **1500 sq feet to 2000 sq feet**\n",
    "- Very less number of houses have area more than 2000 sq feet or less than 750 sq feet"
   ]
  },
  {
   "cell_type": "markdown",
   "metadata": {},
   "source": [
    "### Value counts"
   ]
  },
  {
   "cell_type": "code",
   "execution_count": 13,
   "metadata": {},
   "outputs": [
    {
     "data": {
      "text/plain": [
       "1.0    3795\n",
       "2.0    2352\n",
       "3.0     707\n",
       "4.0     254\n",
       "Name: N_BEDROOM, dtype: int64"
      ]
     },
     "execution_count": 13,
     "metadata": {},
     "output_type": "execute_result"
    }
   ],
   "source": [
    "# number of bedrooms\n",
    "\n",
    "df['N_BEDROOM'].value_counts()"
   ]
  },
  {
   "cell_type": "markdown",
   "metadata": {},
   "source": [
    "- It has four different categories\n",
    "- This variable should be object and not integer"
   ]
  },
  {
   "cell_type": "code",
   "execution_count": 14,
   "metadata": {},
   "outputs": [
    {
     "data": {
      "text/plain": [
       "1.0    53.383036\n",
       "2.0    33.084822\n",
       "3.0     9.945140\n",
       "4.0     3.572936\n",
       "Name: N_BEDROOM, dtype: float64"
      ]
     },
     "execution_count": 14,
     "metadata": {},
     "output_type": "execute_result"
    }
   ],
   "source": [
    "df['N_BEDROOM'].value_counts()/len(df)*100"
   ]
  },
  {
   "cell_type": "markdown",
   "metadata": {},
   "source": [
    "- About 53% houses have one bedroom\n",
    "- 33% have 2 bedrooms\n",
    "- Less than 10% houses have 3 bedrooms \n",
    "- Only 3.5% have 4 bedrooms"
   ]
  },
  {
   "cell_type": "code",
   "execution_count": 15,
   "metadata": {
    "scrolled": true
   },
   "outputs": [
    {
     "data": {
      "text/plain": [
       "4    2563\n",
       "3    2125\n",
       "5    1246\n",
       "2     921\n",
       "6     254\n",
       "Name: N_ROOM, dtype: int64"
      ]
     },
     "execution_count": 15,
     "metadata": {},
     "output_type": "execute_result"
    }
   ],
   "source": [
    "df['N_ROOM'].value_counts()"
   ]
  },
  {
   "cell_type": "markdown",
   "metadata": {},
   "source": [
    "- The 'Rooms' might have number of kitchen, hall, dinning area etc.\n",
    "- No house with 1 room, and a very few that have 2"
   ]
  },
  {
   "cell_type": "code",
   "execution_count": 16,
   "metadata": {},
   "outputs": [
    {
     "data": {
      "text/plain": [
       "1.0    0.786187\n",
       "2.0    0.213110\n",
       "Name: N_BATHROOM, dtype: float64"
      ]
     },
     "execution_count": 16,
     "metadata": {},
     "output_type": "execute_result"
    }
   ],
   "source": [
    "df['N_BATHROOM'].value_counts()/len(df)"
   ]
  },
  {
   "cell_type": "markdown",
   "metadata": {},
   "source": [
    "- 78% houses have 1 bathroom and 21% have 2 bathrooms\n",
    "- The same can be represented using bar plots"
   ]
  },
  {
   "cell_type": "markdown",
   "metadata": {},
   "source": [
    "### Bar Plot"
   ]
  },
  {
   "cell_type": "code",
   "execution_count": 17,
   "metadata": {},
   "outputs": [
    {
     "data": {
      "text/plain": [
       "<matplotlib.axes._subplots.AxesSubplot at 0x204d652c9a0>"
      ]
     },
     "execution_count": 17,
     "metadata": {},
     "output_type": "execute_result"
    },
    {
     "data": {
      "image/png": "[encoded data removed]",
      "text/plain": [
       "<Figure size 432x288 with 1 Axes>"
      ]
     },
     "metadata": {
      "needs_background": "light"
     },
     "output_type": "display_data"
    }
   ],
   "source": [
    "df['N_BATHROOM'].value_counts().plot(kind = 'bar')"
   ]
  },
  {
   "cell_type": "code",
   "execution_count": 18,
   "metadata": {},
   "outputs": [
    {
     "data": {
      "text/plain": [
       "<matplotlib.axes._subplots.AxesSubplot at 0x204d656f6a0>"
      ]
     },
     "execution_count": 18,
     "metadata": {},
     "output_type": "execute_result"
    },
    {
     "data": {
      "image/png": "[encoded data removed]",
      "text/plain": [
       "<Figure size 432x288 with 1 Axes>"
      ]
     },
     "metadata": {
      "needs_background": "light"
     },
     "output_type": "display_data"
    }
   ],
   "source": [
    "df['AREA'].value_counts().plot(kind = 'bar')"
   ]
  },
  {
   "cell_type": "markdown",
   "metadata": {},
   "source": [
    "- There are 17 different categories in the 'AREA' variable\n",
    "- Only 7 unique area name\n",
    "- maximum houses are in the area Chrompet, followed by Karapakkam"
   ]
  },
  {
   "cell_type": "code",
   "execution_count": 19,
   "metadata": {
    "scrolled": true
   },
   "outputs": [
    {
     "data": {
      "text/plain": [
       "<matplotlib.axes._subplots.AxesSubplot at 0x204d75e2e20>"
      ]
     },
     "execution_count": 19,
     "metadata": {},
     "output_type": "execute_result"
    },
    {
     "data": {
      "image/png": "[encoded data removed]",
      "text/plain": [
       "<Figure size 432x288 with 1 Axes>"
      ]
     },
     "metadata": {
      "needs_background": "light"
     },
     "output_type": "display_data"
    }
   ],
   "source": [
    "# houses with parking facility\n",
    "\n",
    "df['PARK_FACIL'].value_counts().plot(kind = 'bar')"
   ]
  },
  {
   "cell_type": "code",
   "execution_count": 20,
   "metadata": {},
   "outputs": [
    {
     "data": {
      "text/plain": [
       "Yes    3587\n",
       "No     3520\n",
       "Noo       2\n",
       "Name: PARK_FACIL, dtype: int64"
      ]
     },
     "execution_count": 20,
     "metadata": {},
     "output_type": "execute_result"
    }
   ],
   "source": [
    "df['PARK_FACIL'].value_counts()"
   ]
  },
  {
   "cell_type": "markdown",
   "metadata": {},
   "source": [
    "- There are only two unique categories\n",
    "- The number of houses with parking facility in both the cases is almost the same"
   ]
  },
  {
   "cell_type": "markdown",
   "metadata": {},
   "source": [
    "# Data Manipulation\n",
    "\n",
    "\n",
    "1. Drop Duplicates (if any)\n",
    "2. Fill the missing Values\n",
    "3. Correct the data types \n",
    "4. Fix the spelling errors in variables"
   ]
  },
  {
   "cell_type": "markdown",
   "metadata": {},
   "source": [
    "### Drop Duplicates (if any)"
   ]
  },
  {
   "cell_type": "code",
   "execution_count": 21,
   "metadata": {},
   "outputs": [
    {
     "data": {
      "text/html": [
       "<div>\n",
       "<style scoped>\n",
       "    .dataframe tbody tr th:only-of-type {\n",
       "        vertical-align: middle;\n",
       "    }\n",
       "\n",
       "    .dataframe tbody tr th {\n",
       "        vertical-align: top;\n",
       "    }\n",
       "\n",
       "    .dataframe thead th {\n",
       "        text-align: right;\n",
       "    }\n",
       "</style>\n",
       "<table border=\"1\" class=\"dataframe\">\n",
       "  <thead>\n",
       "    <tr style=\"text-align: right;\">\n",
       "      <th></th>\n",
       "      <th>PRT_ID</th>\n",
       "      <th>AREA</th>\n",
       "      <th>INT_SQFT</th>\n",
       "      <th>DIST_MAINROAD</th>\n",
       "      <th>N_BEDROOM</th>\n",
       "      <th>N_BATHROOM</th>\n",
       "      <th>N_ROOM</th>\n",
       "      <th>SALE_COND</th>\n",
       "      <th>PARK_FACIL</th>\n",
       "      <th>BUILDTYPE</th>\n",
       "      <th>UTILITY_AVAIL</th>\n",
       "      <th>STREET</th>\n",
       "      <th>MZZONE</th>\n",
       "      <th>QS_ROOMS</th>\n",
       "      <th>QS_BATHROOM</th>\n",
       "      <th>QS_BEDROOM</th>\n",
       "      <th>QS_OVERALL</th>\n",
       "      <th>COMMIS</th>\n",
       "      <th>SALES_PRICE</th>\n",
       "    </tr>\n",
       "  </thead>\n",
       "  <tbody>\n",
       "    <tr>\n",
       "      <th>0</th>\n",
       "      <td>P03210</td>\n",
       "      <td>Karapakkam</td>\n",
       "      <td>1004</td>\n",
       "      <td>131</td>\n",
       "      <td>1.0</td>\n",
       "      <td>1.0</td>\n",
       "      <td>3</td>\n",
       "      <td>AbNormal</td>\n",
       "      <td>Yes</td>\n",
       "      <td>Commercial</td>\n",
       "      <td>AllPub</td>\n",
       "      <td>Paved</td>\n",
       "      <td>A</td>\n",
       "      <td>4.0</td>\n",
       "      <td>3.9</td>\n",
       "      <td>4.9</td>\n",
       "      <td>4.330</td>\n",
       "      <td>144400</td>\n",
       "      <td>7600000</td>\n",
       "    </tr>\n",
       "    <tr>\n",
       "      <th>1</th>\n",
       "      <td>P09411</td>\n",
       "      <td>Anna Nagar</td>\n",
       "      <td>1986</td>\n",
       "      <td>26</td>\n",
       "      <td>2.0</td>\n",
       "      <td>1.0</td>\n",
       "      <td>5</td>\n",
       "      <td>AbNormal</td>\n",
       "      <td>No</td>\n",
       "      <td>Commercial</td>\n",
       "      <td>AllPub</td>\n",
       "      <td>Gravel</td>\n",
       "      <td>RH</td>\n",
       "      <td>4.9</td>\n",
       "      <td>4.2</td>\n",
       "      <td>2.5</td>\n",
       "      <td>3.765</td>\n",
       "      <td>304049</td>\n",
       "      <td>21717770</td>\n",
       "    </tr>\n",
       "    <tr>\n",
       "      <th>2</th>\n",
       "      <td>P01812</td>\n",
       "      <td>Adyar</td>\n",
       "      <td>909</td>\n",
       "      <td>70</td>\n",
       "      <td>1.0</td>\n",
       "      <td>1.0</td>\n",
       "      <td>3</td>\n",
       "      <td>AbNormal</td>\n",
       "      <td>Yes</td>\n",
       "      <td>Commercial</td>\n",
       "      <td>ELO</td>\n",
       "      <td>Gravel</td>\n",
       "      <td>RL</td>\n",
       "      <td>4.1</td>\n",
       "      <td>3.8</td>\n",
       "      <td>2.2</td>\n",
       "      <td>3.090</td>\n",
       "      <td>92114</td>\n",
       "      <td>13159200</td>\n",
       "    </tr>\n",
       "    <tr>\n",
       "      <th>3</th>\n",
       "      <td>P05346</td>\n",
       "      <td>Velachery</td>\n",
       "      <td>1855</td>\n",
       "      <td>14</td>\n",
       "      <td>3.0</td>\n",
       "      <td>2.0</td>\n",
       "      <td>5</td>\n",
       "      <td>Family</td>\n",
       "      <td>No</td>\n",
       "      <td>Others</td>\n",
       "      <td>NoSewr</td>\n",
       "      <td>Paved</td>\n",
       "      <td>I</td>\n",
       "      <td>4.7</td>\n",
       "      <td>3.9</td>\n",
       "      <td>3.6</td>\n",
       "      <td>4.010</td>\n",
       "      <td>77042</td>\n",
       "      <td>9630290</td>\n",
       "    </tr>\n",
       "    <tr>\n",
       "      <th>4</th>\n",
       "      <td>P06210</td>\n",
       "      <td>Karapakkam</td>\n",
       "      <td>1226</td>\n",
       "      <td>84</td>\n",
       "      <td>1.0</td>\n",
       "      <td>1.0</td>\n",
       "      <td>3</td>\n",
       "      <td>AbNormal</td>\n",
       "      <td>Yes</td>\n",
       "      <td>Others</td>\n",
       "      <td>AllPub</td>\n",
       "      <td>Gravel</td>\n",
       "      <td>C</td>\n",
       "      <td>3.0</td>\n",
       "      <td>2.5</td>\n",
       "      <td>4.1</td>\n",
       "      <td>3.290</td>\n",
       "      <td>74063</td>\n",
       "      <td>7406250</td>\n",
       "    </tr>\n",
       "    <tr>\n",
       "      <th>...</th>\n",
       "      <td>...</td>\n",
       "      <td>...</td>\n",
       "      <td>...</td>\n",
       "      <td>...</td>\n",
       "      <td>...</td>\n",
       "      <td>...</td>\n",
       "      <td>...</td>\n",
       "      <td>...</td>\n",
       "      <td>...</td>\n",
       "      <td>...</td>\n",
       "      <td>...</td>\n",
       "      <td>...</td>\n",
       "      <td>...</td>\n",
       "      <td>...</td>\n",
       "      <td>...</td>\n",
       "      <td>...</td>\n",
       "      <td>...</td>\n",
       "      <td>...</td>\n",
       "      <td>...</td>\n",
       "    </tr>\n",
       "    <tr>\n",
       "      <th>7104</th>\n",
       "      <td>P03834</td>\n",
       "      <td>Karapakkam</td>\n",
       "      <td>598</td>\n",
       "      <td>51</td>\n",
       "      <td>1.0</td>\n",
       "      <td>1.0</td>\n",
       "      <td>2</td>\n",
       "      <td>AdjLand</td>\n",
       "      <td>No</td>\n",
       "      <td>Others</td>\n",
       "      <td>ELO</td>\n",
       "      <td>No Access</td>\n",
       "      <td>RM</td>\n",
       "      <td>3.0</td>\n",
       "      <td>2.2</td>\n",
       "      <td>2.4</td>\n",
       "      <td>2.520</td>\n",
       "      <td>107060</td>\n",
       "      <td>5353000</td>\n",
       "    </tr>\n",
       "    <tr>\n",
       "      <th>7105</th>\n",
       "      <td>P10000</td>\n",
       "      <td>Velachery</td>\n",
       "      <td>1897</td>\n",
       "      <td>52</td>\n",
       "      <td>3.0</td>\n",
       "      <td>2.0</td>\n",
       "      <td>5</td>\n",
       "      <td>Family</td>\n",
       "      <td>Yes</td>\n",
       "      <td>Others</td>\n",
       "      <td>NoSeWa</td>\n",
       "      <td>No Access</td>\n",
       "      <td>RH</td>\n",
       "      <td>3.6</td>\n",
       "      <td>4.5</td>\n",
       "      <td>3.3</td>\n",
       "      <td>3.920</td>\n",
       "      <td>205551</td>\n",
       "      <td>10818480</td>\n",
       "    </tr>\n",
       "    <tr>\n",
       "      <th>7106</th>\n",
       "      <td>P09594</td>\n",
       "      <td>Velachery</td>\n",
       "      <td>1614</td>\n",
       "      <td>152</td>\n",
       "      <td>2.0</td>\n",
       "      <td>1.0</td>\n",
       "      <td>4</td>\n",
       "      <td>Normal Sale</td>\n",
       "      <td>No</td>\n",
       "      <td>House</td>\n",
       "      <td>NoSeWa</td>\n",
       "      <td>Gravel</td>\n",
       "      <td>I</td>\n",
       "      <td>4.3</td>\n",
       "      <td>4.2</td>\n",
       "      <td>2.9</td>\n",
       "      <td>3.840</td>\n",
       "      <td>167028</td>\n",
       "      <td>8351410</td>\n",
       "    </tr>\n",
       "    <tr>\n",
       "      <th>7107</th>\n",
       "      <td>P06508</td>\n",
       "      <td>Karapakkam</td>\n",
       "      <td>787</td>\n",
       "      <td>40</td>\n",
       "      <td>1.0</td>\n",
       "      <td>1.0</td>\n",
       "      <td>2</td>\n",
       "      <td>Partial</td>\n",
       "      <td>Yes</td>\n",
       "      <td>Commercial</td>\n",
       "      <td>ELO</td>\n",
       "      <td>Paved</td>\n",
       "      <td>RL</td>\n",
       "      <td>4.6</td>\n",
       "      <td>3.8</td>\n",
       "      <td>4.1</td>\n",
       "      <td>4.160</td>\n",
       "      <td>119098</td>\n",
       "      <td>8507000</td>\n",
       "    </tr>\n",
       "    <tr>\n",
       "      <th>7108</th>\n",
       "      <td>P09794</td>\n",
       "      <td>Velachery</td>\n",
       "      <td>1896</td>\n",
       "      <td>156</td>\n",
       "      <td>3.0</td>\n",
       "      <td>2.0</td>\n",
       "      <td>5</td>\n",
       "      <td>Partial</td>\n",
       "      <td>Yes</td>\n",
       "      <td>Others</td>\n",
       "      <td>ELO</td>\n",
       "      <td>Paved</td>\n",
       "      <td>I</td>\n",
       "      <td>3.1</td>\n",
       "      <td>3.5</td>\n",
       "      <td>4.3</td>\n",
       "      <td>3.640</td>\n",
       "      <td>79812</td>\n",
       "      <td>9976480</td>\n",
       "    </tr>\n",
       "  </tbody>\n",
       "</table>\n",
       "<p>7109 rows × 19 columns</p>\n",
       "</div>"
      ],
      "text/plain": [
       "      PRT_ID        AREA  INT_SQFT  DIST_MAINROAD  N_BEDROOM  N_BATHROOM  \\\n",
       "0     P03210  Karapakkam      1004            131        1.0         1.0   \n",
       "1     P09411  Anna Nagar      1986             26        2.0         1.0   \n",
       "2     P01812       Adyar       909             70        1.0         1.0   \n",
       "3     P05346   Velachery      1855             14        3.0         2.0   \n",
       "4     P06210  Karapakkam      1226             84        1.0         1.0   \n",
       "...      ...         ...       ...            ...        ...         ...   \n",
       "7104  P03834  Karapakkam       598             51        1.0         1.0   \n",
       "7105  P10000   Velachery      1897             52        3.0         2.0   \n",
       "7106  P09594   Velachery      1614            152        2.0         1.0   \n",
       "7107  P06508  Karapakkam       787             40        1.0         1.0   \n",
       "7108  P09794   Velachery      1896            156        3.0         2.0   \n",
       "\n",
       "      N_ROOM    SALE_COND PARK_FACIL   BUILDTYPE UTILITY_AVAIL     STREET  \\\n",
       "0          3     AbNormal        Yes  Commercial        AllPub      Paved   \n",
       "1          5     AbNormal         No  Commercial        AllPub     Gravel   \n",
       "2          3     AbNormal        Yes  Commercial           ELO     Gravel   \n",
       "3          5       Family         No      Others       NoSewr       Paved   \n",
       "4          3     AbNormal        Yes      Others        AllPub     Gravel   \n",
       "...      ...          ...        ...         ...           ...        ...   \n",
       "7104       2      AdjLand         No      Others           ELO  No Access   \n",
       "7105       5       Family        Yes      Others        NoSeWa  No Access   \n",
       "7106       4  Normal Sale         No       House        NoSeWa     Gravel   \n",
       "7107       2      Partial        Yes  Commercial           ELO      Paved   \n",
       "7108       5      Partial        Yes      Others           ELO      Paved   \n",
       "\n",
       "     MZZONE  QS_ROOMS  QS_BATHROOM  QS_BEDROOM  QS_OVERALL  COMMIS  \\\n",
       "0         A       4.0          3.9         4.9       4.330  144400   \n",
       "1        RH       4.9          4.2         2.5       3.765  304049   \n",
       "2        RL       4.1          3.8         2.2       3.090   92114   \n",
       "3         I       4.7          3.9         3.6       4.010   77042   \n",
       "4         C       3.0          2.5         4.1       3.290   74063   \n",
       "...     ...       ...          ...         ...         ...     ...   \n",
       "7104     RM       3.0          2.2         2.4       2.520  107060   \n",
       "7105     RH       3.6          4.5         3.3       3.920  205551   \n",
       "7106      I       4.3          4.2         2.9       3.840  167028   \n",
       "7107     RL       4.6          3.8         4.1       4.160  119098   \n",
       "7108      I       3.1          3.5         4.3       3.640   79812   \n",
       "\n",
       "      SALES_PRICE  \n",
       "0         7600000  \n",
       "1        21717770  \n",
       "2        13159200  \n",
       "3         9630290  \n",
       "4         7406250  \n",
       "...           ...  \n",
       "7104      5353000  \n",
       "7105     10818480  \n",
       "7106      8351410  \n",
       "7107      8507000  \n",
       "7108      9976480  \n",
       "\n",
       "[7109 rows x 19 columns]"
      ]
     },
     "execution_count": 21,
     "metadata": {},
     "output_type": "execute_result"
    }
   ],
   "source": [
    "df.drop_duplicates()"
   ]
  },
  {
   "cell_type": "code",
   "execution_count": 22,
   "metadata": {},
   "outputs": [
    {
     "data": {
      "text/plain": [
       "(17, 19)"
      ]
     },
     "execution_count": 22,
     "metadata": {},
     "output_type": "execute_result"
    }
   ],
   "source": [
    "df.drop_duplicates(subset=['AREA']).shape"
   ]
  },
  {
   "cell_type": "code",
   "execution_count": 23,
   "metadata": {},
   "outputs": [
    {
     "data": {
      "text/plain": [
       "(7109, 19)"
      ]
     },
     "execution_count": 23,
     "metadata": {},
     "output_type": "execute_result"
    }
   ],
   "source": [
    "df.shape"
   ]
  },
  {
   "cell_type": "markdown",
   "metadata": {},
   "source": [
    "- We have no duplicates. Hence the shape did not change here."
   ]
  },
  {
   "cell_type": "markdown",
   "metadata": {},
   "source": [
    "### Missing Values"
   ]
  },
  {
   "cell_type": "code",
   "execution_count": 24,
   "metadata": {
    "scrolled": true
   },
   "outputs": [
    {
     "data": {
      "text/plain": [
       "PRT_ID            0\n",
       "AREA              0\n",
       "INT_SQFT          0\n",
       "DIST_MAINROAD     0\n",
       "N_BEDROOM         1\n",
       "N_BATHROOM        5\n",
       "N_ROOM            0\n",
       "SALE_COND         0\n",
       "PARK_FACIL        0\n",
       "BUILDTYPE         0\n",
       "UTILITY_AVAIL     0\n",
       "STREET            0\n",
       "MZZONE            0\n",
       "QS_ROOMS          0\n",
       "QS_BATHROOM       0\n",
       "QS_BEDROOM        0\n",
       "QS_OVERALL       48\n",
       "COMMIS            0\n",
       "SALES_PRICE       0\n",
       "dtype: int64"
      ]
     },
     "execution_count": 24,
     "metadata": {},
     "output_type": "execute_result"
    }
   ],
   "source": [
    "# missing values\n",
    "\n",
    "df.isnull().sum()"
   ]
  },
  {
   "cell_type": "markdown",
   "metadata": {},
   "source": [
    "**Different ways deal with the missing values**\n",
    "\n",
    "- Remove the rows with missing values\n",
    "- Mean or median in case of continuous variable\n",
    "- With mode in case of categorical variable\n",
    "- Using other independent variables"
   ]
  },
  {
   "cell_type": "markdown",
   "metadata": {},
   "source": [
    "### Drop rows with missing values"
   ]
  },
  {
   "cell_type": "code",
   "execution_count": 25,
   "metadata": {},
   "outputs": [
    {
     "data": {
      "text/html": [
       "<div>\n",
       "<style scoped>\n",
       "    .dataframe tbody tr th:only-of-type {\n",
       "        vertical-align: middle;\n",
       "    }\n",
       "\n",
       "    .dataframe tbody tr th {\n",
       "        vertical-align: top;\n",
       "    }\n",
       "\n",
       "    .dataframe thead th {\n",
       "        text-align: right;\n",
       "    }\n",
       "</style>\n",
       "<table border=\"1\" class=\"dataframe\">\n",
       "  <thead>\n",
       "    <tr style=\"text-align: right;\">\n",
       "      <th></th>\n",
       "      <th>PRT_ID</th>\n",
       "      <th>AREA</th>\n",
       "      <th>INT_SQFT</th>\n",
       "      <th>DIST_MAINROAD</th>\n",
       "      <th>N_BEDROOM</th>\n",
       "      <th>N_BATHROOM</th>\n",
       "      <th>N_ROOM</th>\n",
       "      <th>SALE_COND</th>\n",
       "      <th>PARK_FACIL</th>\n",
       "      <th>BUILDTYPE</th>\n",
       "      <th>UTILITY_AVAIL</th>\n",
       "      <th>STREET</th>\n",
       "      <th>MZZONE</th>\n",
       "      <th>QS_ROOMS</th>\n",
       "      <th>QS_BATHROOM</th>\n",
       "      <th>QS_BEDROOM</th>\n",
       "      <th>QS_OVERALL</th>\n",
       "      <th>COMMIS</th>\n",
       "      <th>SALES_PRICE</th>\n",
       "    </tr>\n",
       "  </thead>\n",
       "  <tbody>\n",
       "    <tr>\n",
       "      <th>0</th>\n",
       "      <td>P03210</td>\n",
       "      <td>Karapakkam</td>\n",
       "      <td>1004</td>\n",
       "      <td>131</td>\n",
       "      <td>1.0</td>\n",
       "      <td>1.0</td>\n",
       "      <td>3</td>\n",
       "      <td>AbNormal</td>\n",
       "      <td>Yes</td>\n",
       "      <td>Commercial</td>\n",
       "      <td>AllPub</td>\n",
       "      <td>Paved</td>\n",
       "      <td>A</td>\n",
       "      <td>4.0</td>\n",
       "      <td>3.9</td>\n",
       "      <td>4.9</td>\n",
       "      <td>4.330</td>\n",
       "      <td>144400</td>\n",
       "      <td>7600000</td>\n",
       "    </tr>\n",
       "    <tr>\n",
       "      <th>1</th>\n",
       "      <td>P09411</td>\n",
       "      <td>Anna Nagar</td>\n",
       "      <td>1986</td>\n",
       "      <td>26</td>\n",
       "      <td>2.0</td>\n",
       "      <td>1.0</td>\n",
       "      <td>5</td>\n",
       "      <td>AbNormal</td>\n",
       "      <td>No</td>\n",
       "      <td>Commercial</td>\n",
       "      <td>AllPub</td>\n",
       "      <td>Gravel</td>\n",
       "      <td>RH</td>\n",
       "      <td>4.9</td>\n",
       "      <td>4.2</td>\n",
       "      <td>2.5</td>\n",
       "      <td>3.765</td>\n",
       "      <td>304049</td>\n",
       "      <td>21717770</td>\n",
       "    </tr>\n",
       "    <tr>\n",
       "      <th>2</th>\n",
       "      <td>P01812</td>\n",
       "      <td>Adyar</td>\n",
       "      <td>909</td>\n",
       "      <td>70</td>\n",
       "      <td>1.0</td>\n",
       "      <td>1.0</td>\n",
       "      <td>3</td>\n",
       "      <td>AbNormal</td>\n",
       "      <td>Yes</td>\n",
       "      <td>Commercial</td>\n",
       "      <td>ELO</td>\n",
       "      <td>Gravel</td>\n",
       "      <td>RL</td>\n",
       "      <td>4.1</td>\n",
       "      <td>3.8</td>\n",
       "      <td>2.2</td>\n",
       "      <td>3.090</td>\n",
       "      <td>92114</td>\n",
       "      <td>13159200</td>\n",
       "    </tr>\n",
       "    <tr>\n",
       "      <th>3</th>\n",
       "      <td>P05346</td>\n",
       "      <td>Velachery</td>\n",
       "      <td>1855</td>\n",
       "      <td>14</td>\n",
       "      <td>3.0</td>\n",
       "      <td>2.0</td>\n",
       "      <td>5</td>\n",
       "      <td>Family</td>\n",
       "      <td>No</td>\n",
       "      <td>Others</td>\n",
       "      <td>NoSewr</td>\n",
       "      <td>Paved</td>\n",
       "      <td>I</td>\n",
       "      <td>4.7</td>\n",
       "      <td>3.9</td>\n",
       "      <td>3.6</td>\n",
       "      <td>4.010</td>\n",
       "      <td>77042</td>\n",
       "      <td>9630290</td>\n",
       "    </tr>\n",
       "    <tr>\n",
       "      <th>4</th>\n",
       "      <td>P06210</td>\n",
       "      <td>Karapakkam</td>\n",
       "      <td>1226</td>\n",
       "      <td>84</td>\n",
       "      <td>1.0</td>\n",
       "      <td>1.0</td>\n",
       "      <td>3</td>\n",
       "      <td>AbNormal</td>\n",
       "      <td>Yes</td>\n",
       "      <td>Others</td>\n",
       "      <td>AllPub</td>\n",
       "      <td>Gravel</td>\n",
       "      <td>C</td>\n",
       "      <td>3.0</td>\n",
       "      <td>2.5</td>\n",
       "      <td>4.1</td>\n",
       "      <td>3.290</td>\n",
       "      <td>74063</td>\n",
       "      <td>7406250</td>\n",
       "    </tr>\n",
       "    <tr>\n",
       "      <th>...</th>\n",
       "      <td>...</td>\n",
       "      <td>...</td>\n",
       "      <td>...</td>\n",
       "      <td>...</td>\n",
       "      <td>...</td>\n",
       "      <td>...</td>\n",
       "      <td>...</td>\n",
       "      <td>...</td>\n",
       "      <td>...</td>\n",
       "      <td>...</td>\n",
       "      <td>...</td>\n",
       "      <td>...</td>\n",
       "      <td>...</td>\n",
       "      <td>...</td>\n",
       "      <td>...</td>\n",
       "      <td>...</td>\n",
       "      <td>...</td>\n",
       "      <td>...</td>\n",
       "      <td>...</td>\n",
       "    </tr>\n",
       "    <tr>\n",
       "      <th>7104</th>\n",
       "      <td>P03834</td>\n",
       "      <td>Karapakkam</td>\n",
       "      <td>598</td>\n",
       "      <td>51</td>\n",
       "      <td>1.0</td>\n",
       "      <td>1.0</td>\n",
       "      <td>2</td>\n",
       "      <td>AdjLand</td>\n",
       "      <td>No</td>\n",
       "      <td>Others</td>\n",
       "      <td>ELO</td>\n",
       "      <td>No Access</td>\n",
       "      <td>RM</td>\n",
       "      <td>3.0</td>\n",
       "      <td>2.2</td>\n",
       "      <td>2.4</td>\n",
       "      <td>2.520</td>\n",
       "      <td>107060</td>\n",
       "      <td>5353000</td>\n",
       "    </tr>\n",
       "    <tr>\n",
       "      <th>7105</th>\n",
       "      <td>P10000</td>\n",
       "      <td>Velachery</td>\n",
       "      <td>1897</td>\n",
       "      <td>52</td>\n",
       "      <td>3.0</td>\n",
       "      <td>2.0</td>\n",
       "      <td>5</td>\n",
       "      <td>Family</td>\n",
       "      <td>Yes</td>\n",
       "      <td>Others</td>\n",
       "      <td>NoSeWa</td>\n",
       "      <td>No Access</td>\n",
       "      <td>RH</td>\n",
       "      <td>3.6</td>\n",
       "      <td>4.5</td>\n",
       "      <td>3.3</td>\n",
       "      <td>3.920</td>\n",
       "      <td>205551</td>\n",
       "      <td>10818480</td>\n",
       "    </tr>\n",
       "    <tr>\n",
       "      <th>7106</th>\n",
       "      <td>P09594</td>\n",
       "      <td>Velachery</td>\n",
       "      <td>1614</td>\n",
       "      <td>152</td>\n",
       "      <td>2.0</td>\n",
       "      <td>1.0</td>\n",
       "      <td>4</td>\n",
       "      <td>Normal Sale</td>\n",
       "      <td>No</td>\n",
       "      <td>House</td>\n",
       "      <td>NoSeWa</td>\n",
       "      <td>Gravel</td>\n",
       "      <td>I</td>\n",
       "      <td>4.3</td>\n",
       "      <td>4.2</td>\n",
       "      <td>2.9</td>\n",
       "      <td>3.840</td>\n",
       "      <td>167028</td>\n",
       "      <td>8351410</td>\n",
       "    </tr>\n",
       "    <tr>\n",
       "      <th>7107</th>\n",
       "      <td>P06508</td>\n",
       "      <td>Karapakkam</td>\n",
       "      <td>787</td>\n",
       "      <td>40</td>\n",
       "      <td>1.0</td>\n",
       "      <td>1.0</td>\n",
       "      <td>2</td>\n",
       "      <td>Partial</td>\n",
       "      <td>Yes</td>\n",
       "      <td>Commercial</td>\n",
       "      <td>ELO</td>\n",
       "      <td>Paved</td>\n",
       "      <td>RL</td>\n",
       "      <td>4.6</td>\n",
       "      <td>3.8</td>\n",
       "      <td>4.1</td>\n",
       "      <td>4.160</td>\n",
       "      <td>119098</td>\n",
       "      <td>8507000</td>\n",
       "    </tr>\n",
       "    <tr>\n",
       "      <th>7108</th>\n",
       "      <td>P09794</td>\n",
       "      <td>Velachery</td>\n",
       "      <td>1896</td>\n",
       "      <td>156</td>\n",
       "      <td>3.0</td>\n",
       "      <td>2.0</td>\n",
       "      <td>5</td>\n",
       "      <td>Partial</td>\n",
       "      <td>Yes</td>\n",
       "      <td>Others</td>\n",
       "      <td>ELO</td>\n",
       "      <td>Paved</td>\n",
       "      <td>I</td>\n",
       "      <td>3.1</td>\n",
       "      <td>3.5</td>\n",
       "      <td>4.3</td>\n",
       "      <td>3.640</td>\n",
       "      <td>79812</td>\n",
       "      <td>9976480</td>\n",
       "    </tr>\n",
       "  </tbody>\n",
       "</table>\n",
       "<p>7056 rows × 19 columns</p>\n",
       "</div>"
      ],
      "text/plain": [
       "      PRT_ID        AREA  INT_SQFT  DIST_MAINROAD  N_BEDROOM  N_BATHROOM  \\\n",
       "0     P03210  Karapakkam      1004            131        1.0         1.0   \n",
       "1     P09411  Anna Nagar      1986             26        2.0         1.0   \n",
       "2     P01812       Adyar       909             70        1.0         1.0   \n",
       "3     P05346   Velachery      1855             14        3.0         2.0   \n",
       "4     P06210  Karapakkam      1226             84        1.0         1.0   \n",
       "...      ...         ...       ...            ...        ...         ...   \n",
       "7104  P03834  Karapakkam       598             51        1.0         1.0   \n",
       "7105  P10000   Velachery      1897             52        3.0         2.0   \n",
       "7106  P09594   Velachery      1614            152        2.0         1.0   \n",
       "7107  P06508  Karapakkam       787             40        1.0         1.0   \n",
       "7108  P09794   Velachery      1896            156        3.0         2.0   \n",
       "\n",
       "      N_ROOM    SALE_COND PARK_FACIL   BUILDTYPE UTILITY_AVAIL     STREET  \\\n",
       "0          3     AbNormal        Yes  Commercial        AllPub      Paved   \n",
       "1          5     AbNormal         No  Commercial        AllPub     Gravel   \n",
       "2          3     AbNormal        Yes  Commercial           ELO     Gravel   \n",
       "3          5       Family         No      Others       NoSewr       Paved   \n",
       "4          3     AbNormal        Yes      Others        AllPub     Gravel   \n",
       "...      ...          ...        ...         ...           ...        ...   \n",
       "7104       2      AdjLand         No      Others           ELO  No Access   \n",
       "7105       5       Family        Yes      Others        NoSeWa  No Access   \n",
       "7106       4  Normal Sale         No       House        NoSeWa     Gravel   \n",
       "7107       2      Partial        Yes  Commercial           ELO      Paved   \n",
       "7108       5      Partial        Yes      Others           ELO      Paved   \n",
       "\n",
       "     MZZONE  QS_ROOMS  QS_BATHROOM  QS_BEDROOM  QS_OVERALL  COMMIS  \\\n",
       "0         A       4.0          3.9         4.9       4.330  144400   \n",
       "1        RH       4.9          4.2         2.5       3.765  304049   \n",
       "2        RL       4.1          3.8         2.2       3.090   92114   \n",
       "3         I       4.7          3.9         3.6       4.010   77042   \n",
       "4         C       3.0          2.5         4.1       3.290   74063   \n",
       "...     ...       ...          ...         ...         ...     ...   \n",
       "7104     RM       3.0          2.2         2.4       2.520  107060   \n",
       "7105     RH       3.6          4.5         3.3       3.920  205551   \n",
       "7106      I       4.3          4.2         2.9       3.840  167028   \n",
       "7107     RL       4.6          3.8         4.1       4.160  119098   \n",
       "7108      I       3.1          3.5         4.3       3.640   79812   \n",
       "\n",
       "      SALES_PRICE  \n",
       "0         7600000  \n",
       "1        21717770  \n",
       "2        13159200  \n",
       "3         9630290  \n",
       "4         7406250  \n",
       "...           ...  \n",
       "7104      5353000  \n",
       "7105     10818480  \n",
       "7106      8351410  \n",
       "7107      8507000  \n",
       "7108      9976480  \n",
       "\n",
       "[7056 rows x 19 columns]"
      ]
     },
     "execution_count": 25,
     "metadata": {},
     "output_type": "execute_result"
    }
   ],
   "source": [
    "df.dropna(axis=0, how='any')"
   ]
  },
  {
   "cell_type": "markdown",
   "metadata": {},
   "source": [
    "- To make changes to original data, use inplace=True\n",
    "- In this case, 54 rows removed"
   ]
  },
  {
   "cell_type": "code",
   "execution_count": 26,
   "metadata": {},
   "outputs": [
    {
     "data": {
      "text/html": [
       "<div>\n",
       "<style scoped>\n",
       "    .dataframe tbody tr th:only-of-type {\n",
       "        vertical-align: middle;\n",
       "    }\n",
       "\n",
       "    .dataframe tbody tr th {\n",
       "        vertical-align: top;\n",
       "    }\n",
       "\n",
       "    .dataframe thead th {\n",
       "        text-align: right;\n",
       "    }\n",
       "</style>\n",
       "<table border=\"1\" class=\"dataframe\">\n",
       "  <thead>\n",
       "    <tr style=\"text-align: right;\">\n",
       "      <th></th>\n",
       "      <th>PRT_ID</th>\n",
       "      <th>AREA</th>\n",
       "      <th>INT_SQFT</th>\n",
       "      <th>DIST_MAINROAD</th>\n",
       "      <th>N_ROOM</th>\n",
       "      <th>SALE_COND</th>\n",
       "      <th>PARK_FACIL</th>\n",
       "      <th>BUILDTYPE</th>\n",
       "      <th>UTILITY_AVAIL</th>\n",
       "      <th>STREET</th>\n",
       "      <th>MZZONE</th>\n",
       "      <th>QS_ROOMS</th>\n",
       "      <th>QS_BATHROOM</th>\n",
       "      <th>QS_BEDROOM</th>\n",
       "      <th>COMMIS</th>\n",
       "      <th>SALES_PRICE</th>\n",
       "    </tr>\n",
       "  </thead>\n",
       "  <tbody>\n",
       "    <tr>\n",
       "      <th>0</th>\n",
       "      <td>P03210</td>\n",
       "      <td>Karapakkam</td>\n",
       "      <td>1004</td>\n",
       "      <td>131</td>\n",
       "      <td>3</td>\n",
       "      <td>AbNormal</td>\n",
       "      <td>Yes</td>\n",
       "      <td>Commercial</td>\n",
       "      <td>AllPub</td>\n",
       "      <td>Paved</td>\n",
       "      <td>A</td>\n",
       "      <td>4.0</td>\n",
       "      <td>3.9</td>\n",
       "      <td>4.9</td>\n",
       "      <td>144400</td>\n",
       "      <td>7600000</td>\n",
       "    </tr>\n",
       "    <tr>\n",
       "      <th>1</th>\n",
       "      <td>P09411</td>\n",
       "      <td>Anna Nagar</td>\n",
       "      <td>1986</td>\n",
       "      <td>26</td>\n",
       "      <td>5</td>\n",
       "      <td>AbNormal</td>\n",
       "      <td>No</td>\n",
       "      <td>Commercial</td>\n",
       "      <td>AllPub</td>\n",
       "      <td>Gravel</td>\n",
       "      <td>RH</td>\n",
       "      <td>4.9</td>\n",
       "      <td>4.2</td>\n",
       "      <td>2.5</td>\n",
       "      <td>304049</td>\n",
       "      <td>21717770</td>\n",
       "    </tr>\n",
       "    <tr>\n",
       "      <th>2</th>\n",
       "      <td>P01812</td>\n",
       "      <td>Adyar</td>\n",
       "      <td>909</td>\n",
       "      <td>70</td>\n",
       "      <td>3</td>\n",
       "      <td>AbNormal</td>\n",
       "      <td>Yes</td>\n",
       "      <td>Commercial</td>\n",
       "      <td>ELO</td>\n",
       "      <td>Gravel</td>\n",
       "      <td>RL</td>\n",
       "      <td>4.1</td>\n",
       "      <td>3.8</td>\n",
       "      <td>2.2</td>\n",
       "      <td>92114</td>\n",
       "      <td>13159200</td>\n",
       "    </tr>\n",
       "    <tr>\n",
       "      <th>3</th>\n",
       "      <td>P05346</td>\n",
       "      <td>Velachery</td>\n",
       "      <td>1855</td>\n",
       "      <td>14</td>\n",
       "      <td>5</td>\n",
       "      <td>Family</td>\n",
       "      <td>No</td>\n",
       "      <td>Others</td>\n",
       "      <td>NoSewr</td>\n",
       "      <td>Paved</td>\n",
       "      <td>I</td>\n",
       "      <td>4.7</td>\n",
       "      <td>3.9</td>\n",
       "      <td>3.6</td>\n",
       "      <td>77042</td>\n",
       "      <td>9630290</td>\n",
       "    </tr>\n",
       "    <tr>\n",
       "      <th>4</th>\n",
       "      <td>P06210</td>\n",
       "      <td>Karapakkam</td>\n",
       "      <td>1226</td>\n",
       "      <td>84</td>\n",
       "      <td>3</td>\n",
       "      <td>AbNormal</td>\n",
       "      <td>Yes</td>\n",
       "      <td>Others</td>\n",
       "      <td>AllPub</td>\n",
       "      <td>Gravel</td>\n",
       "      <td>C</td>\n",
       "      <td>3.0</td>\n",
       "      <td>2.5</td>\n",
       "      <td>4.1</td>\n",
       "      <td>74063</td>\n",
       "      <td>7406250</td>\n",
       "    </tr>\n",
       "    <tr>\n",
       "      <th>...</th>\n",
       "      <td>...</td>\n",
       "      <td>...</td>\n",
       "      <td>...</td>\n",
       "      <td>...</td>\n",
       "      <td>...</td>\n",
       "      <td>...</td>\n",
       "      <td>...</td>\n",
       "      <td>...</td>\n",
       "      <td>...</td>\n",
       "      <td>...</td>\n",
       "      <td>...</td>\n",
       "      <td>...</td>\n",
       "      <td>...</td>\n",
       "      <td>...</td>\n",
       "      <td>...</td>\n",
       "      <td>...</td>\n",
       "    </tr>\n",
       "    <tr>\n",
       "      <th>7104</th>\n",
       "      <td>P03834</td>\n",
       "      <td>Karapakkam</td>\n",
       "      <td>598</td>\n",
       "      <td>51</td>\n",
       "      <td>2</td>\n",
       "      <td>AdjLand</td>\n",
       "      <td>No</td>\n",
       "      <td>Others</td>\n",
       "      <td>ELO</td>\n",
       "      <td>No Access</td>\n",
       "      <td>RM</td>\n",
       "      <td>3.0</td>\n",
       "      <td>2.2</td>\n",
       "      <td>2.4</td>\n",
       "      <td>107060</td>\n",
       "      <td>5353000</td>\n",
       "    </tr>\n",
       "    <tr>\n",
       "      <th>7105</th>\n",
       "      <td>P10000</td>\n",
       "      <td>Velachery</td>\n",
       "      <td>1897</td>\n",
       "      <td>52</td>\n",
       "      <td>5</td>\n",
       "      <td>Family</td>\n",
       "      <td>Yes</td>\n",
       "      <td>Others</td>\n",
       "      <td>NoSeWa</td>\n",
       "      <td>No Access</td>\n",
       "      <td>RH</td>\n",
       "      <td>3.6</td>\n",
       "      <td>4.5</td>\n",
       "      <td>3.3</td>\n",
       "      <td>205551</td>\n",
       "      <td>10818480</td>\n",
       "    </tr>\n",
       "    <tr>\n",
       "      <th>7106</th>\n",
       "      <td>P09594</td>\n",
       "      <td>Velachery</td>\n",
       "      <td>1614</td>\n",
       "      <td>152</td>\n",
       "      <td>4</td>\n",
       "      <td>Normal Sale</td>\n",
       "      <td>No</td>\n",
       "      <td>House</td>\n",
       "      <td>NoSeWa</td>\n",
       "      <td>Gravel</td>\n",
       "      <td>I</td>\n",
       "      <td>4.3</td>\n",
       "      <td>4.2</td>\n",
       "      <td>2.9</td>\n",
       "      <td>167028</td>\n",
       "      <td>8351410</td>\n",
       "    </tr>\n",
       "    <tr>\n",
       "      <th>7107</th>\n",
       "      <td>P06508</td>\n",
       "      <td>Karapakkam</td>\n",
       "      <td>787</td>\n",
       "      <td>40</td>\n",
       "      <td>2</td>\n",
       "      <td>Partial</td>\n",
       "      <td>Yes</td>\n",
       "      <td>Commercial</td>\n",
       "      <td>ELO</td>\n",
       "      <td>Paved</td>\n",
       "      <td>RL</td>\n",
       "      <td>4.6</td>\n",
       "      <td>3.8</td>\n",
       "      <td>4.1</td>\n",
       "      <td>119098</td>\n",
       "      <td>8507000</td>\n",
       "    </tr>\n",
       "    <tr>\n",
       "      <th>7108</th>\n",
       "      <td>P09794</td>\n",
       "      <td>Velachery</td>\n",
       "      <td>1896</td>\n",
       "      <td>156</td>\n",
       "      <td>5</td>\n",
       "      <td>Partial</td>\n",
       "      <td>Yes</td>\n",
       "      <td>Others</td>\n",
       "      <td>ELO</td>\n",
       "      <td>Paved</td>\n",
       "      <td>I</td>\n",
       "      <td>3.1</td>\n",
       "      <td>3.5</td>\n",
       "      <td>4.3</td>\n",
       "      <td>79812</td>\n",
       "      <td>9976480</td>\n",
       "    </tr>\n",
       "  </tbody>\n",
       "</table>\n",
       "<p>7109 rows × 16 columns</p>\n",
       "</div>"
      ],
      "text/plain": [
       "      PRT_ID        AREA  INT_SQFT  DIST_MAINROAD  N_ROOM    SALE_COND  \\\n",
       "0     P03210  Karapakkam      1004            131       3     AbNormal   \n",
       "1     P09411  Anna Nagar      1986             26       5     AbNormal   \n",
       "2     P01812       Adyar       909             70       3     AbNormal   \n",
       "3     P05346   Velachery      1855             14       5       Family   \n",
       "4     P06210  Karapakkam      1226             84       3     AbNormal   \n",
       "...      ...         ...       ...            ...     ...          ...   \n",
       "7104  P03834  Karapakkam       598             51       2      AdjLand   \n",
       "7105  P10000   Velachery      1897             52       5       Family   \n",
       "7106  P09594   Velachery      1614            152       4  Normal Sale   \n",
       "7107  P06508  Karapakkam       787             40       2      Partial   \n",
       "7108  P09794   Velachery      1896            156       5      Partial   \n",
       "\n",
       "     PARK_FACIL   BUILDTYPE UTILITY_AVAIL     STREET MZZONE  QS_ROOMS  \\\n",
       "0           Yes  Commercial        AllPub      Paved      A       4.0   \n",
       "1            No  Commercial        AllPub     Gravel     RH       4.9   \n",
       "2           Yes  Commercial           ELO     Gravel     RL       4.1   \n",
       "3            No      Others       NoSewr       Paved      I       4.7   \n",
       "4           Yes      Others        AllPub     Gravel      C       3.0   \n",
       "...         ...         ...           ...        ...    ...       ...   \n",
       "7104         No      Others           ELO  No Access     RM       3.0   \n",
       "7105        Yes      Others        NoSeWa  No Access     RH       3.6   \n",
       "7106         No       House        NoSeWa     Gravel      I       4.3   \n",
       "7107        Yes  Commercial           ELO      Paved     RL       4.6   \n",
       "7108        Yes      Others           ELO      Paved      I       3.1   \n",
       "\n",
       "      QS_BATHROOM  QS_BEDROOM  COMMIS  SALES_PRICE  \n",
       "0             3.9         4.9  144400      7600000  \n",
       "1             4.2         2.5  304049     21717770  \n",
       "2             3.8         2.2   92114     13159200  \n",
       "3             3.9         3.6   77042      9630290  \n",
       "4             2.5         4.1   74063      7406250  \n",
       "...           ...         ...     ...          ...  \n",
       "7104          2.2         2.4  107060      5353000  \n",
       "7105          4.5         3.3  205551     10818480  \n",
       "7106          4.2         2.9  167028      8351410  \n",
       "7107          3.8         4.1  119098      8507000  \n",
       "7108          3.5         4.3   79812      9976480  \n",
       "\n",
       "[7109 rows x 16 columns]"
      ]
     },
     "execution_count": 26,
     "metadata": {},
     "output_type": "execute_result"
    }
   ],
   "source": [
    "df.dropna(axis=1, how='any')"
   ]
  },
  {
   "cell_type": "markdown",
   "metadata": {},
   "source": [
    "- When axis is set to 1, columns are dropped.\n",
    "- For given data, 3 columns has missing values hence three columns dropped\n",
    "- To avoid loss of data, we can use other ways of imputation"
   ]
  },
  {
   "cell_type": "markdown",
   "metadata": {},
   "source": [
    "#### 1. N_BEDROOM"
   ]
  },
  {
   "cell_type": "code",
   "execution_count": 27,
   "metadata": {},
   "outputs": [
    {
     "data": {
      "text/plain": [
       "0    1.0\n",
       "dtype: float64"
      ]
     },
     "execution_count": 27,
     "metadata": {},
     "output_type": "execute_result"
    }
   ],
   "source": [
    "df['N_BEDROOM'].mode()"
   ]
  },
  {
   "cell_type": "code",
   "execution_count": 28,
   "metadata": {},
   "outputs": [],
   "source": [
    "df['N_BEDROOM'].fillna(value = (df['N_BEDROOM'].mode()[0]), inplace=True)"
   ]
  },
  {
   "cell_type": "markdown",
   "metadata": {},
   "source": [
    "#### 2. N_BATHROOM"
   ]
  },
  {
   "cell_type": "code",
   "execution_count": 29,
   "metadata": {},
   "outputs": [
    {
     "data": {
      "text/html": [
       "<div>\n",
       "<style scoped>\n",
       "    .dataframe tbody tr th:only-of-type {\n",
       "        vertical-align: middle;\n",
       "    }\n",
       "\n",
       "    .dataframe tbody tr th {\n",
       "        vertical-align: top;\n",
       "    }\n",
       "\n",
       "    .dataframe thead th {\n",
       "        text-align: right;\n",
       "    }\n",
       "</style>\n",
       "<table border=\"1\" class=\"dataframe\">\n",
       "  <thead>\n",
       "    <tr style=\"text-align: right;\">\n",
       "      <th></th>\n",
       "      <th>PRT_ID</th>\n",
       "      <th>AREA</th>\n",
       "      <th>INT_SQFT</th>\n",
       "      <th>DIST_MAINROAD</th>\n",
       "      <th>N_BEDROOM</th>\n",
       "      <th>N_BATHROOM</th>\n",
       "      <th>N_ROOM</th>\n",
       "      <th>SALE_COND</th>\n",
       "      <th>PARK_FACIL</th>\n",
       "      <th>BUILDTYPE</th>\n",
       "      <th>UTILITY_AVAIL</th>\n",
       "      <th>STREET</th>\n",
       "      <th>MZZONE</th>\n",
       "      <th>QS_ROOMS</th>\n",
       "      <th>QS_BATHROOM</th>\n",
       "      <th>QS_BEDROOM</th>\n",
       "      <th>QS_OVERALL</th>\n",
       "      <th>COMMIS</th>\n",
       "      <th>SALES_PRICE</th>\n",
       "    </tr>\n",
       "  </thead>\n",
       "  <tbody>\n",
       "    <tr>\n",
       "      <th>70</th>\n",
       "      <td>P05304</td>\n",
       "      <td>Anna Nagar</td>\n",
       "      <td>1589</td>\n",
       "      <td>39</td>\n",
       "      <td>1.0</td>\n",
       "      <td>NaN</td>\n",
       "      <td>4</td>\n",
       "      <td>Partial</td>\n",
       "      <td>No</td>\n",
       "      <td>Others</td>\n",
       "      <td>AllPub</td>\n",
       "      <td>Gravel</td>\n",
       "      <td>RL</td>\n",
       "      <td>2.1</td>\n",
       "      <td>2.5</td>\n",
       "      <td>4.5</td>\n",
       "      <td>3.16</td>\n",
       "      <td>85486</td>\n",
       "      <td>12212350</td>\n",
       "    </tr>\n",
       "    <tr>\n",
       "      <th>5087</th>\n",
       "      <td>P01333</td>\n",
       "      <td>Chrompet</td>\n",
       "      <td>1016</td>\n",
       "      <td>105</td>\n",
       "      <td>1.0</td>\n",
       "      <td>NaN</td>\n",
       "      <td>3</td>\n",
       "      <td>AbNormal</td>\n",
       "      <td>Yes</td>\n",
       "      <td>Others</td>\n",
       "      <td>NoSewr</td>\n",
       "      <td>Gravel</td>\n",
       "      <td>RM</td>\n",
       "      <td>3.2</td>\n",
       "      <td>4.2</td>\n",
       "      <td>2.0</td>\n",
       "      <td>3.24</td>\n",
       "      <td>106479</td>\n",
       "      <td>10647920</td>\n",
       "    </tr>\n",
       "    <tr>\n",
       "      <th>6134</th>\n",
       "      <td>P01332</td>\n",
       "      <td>Chormpet</td>\n",
       "      <td>916</td>\n",
       "      <td>173</td>\n",
       "      <td>1.0</td>\n",
       "      <td>NaN</td>\n",
       "      <td>3</td>\n",
       "      <td>Normal Sale</td>\n",
       "      <td>Yes</td>\n",
       "      <td>Others</td>\n",
       "      <td>ELO</td>\n",
       "      <td>Paved</td>\n",
       "      <td>RL</td>\n",
       "      <td>3.4</td>\n",
       "      <td>3.5</td>\n",
       "      <td>3.0</td>\n",
       "      <td>NaN</td>\n",
       "      <td>44237</td>\n",
       "      <td>8847420</td>\n",
       "    </tr>\n",
       "    <tr>\n",
       "      <th>6371</th>\n",
       "      <td>P01189</td>\n",
       "      <td>Chrompet</td>\n",
       "      <td>1035</td>\n",
       "      <td>90</td>\n",
       "      <td>1.0</td>\n",
       "      <td>NaN</td>\n",
       "      <td>3</td>\n",
       "      <td>Partial</td>\n",
       "      <td>No</td>\n",
       "      <td>Others</td>\n",
       "      <td>NoSeWa</td>\n",
       "      <td>No Access</td>\n",
       "      <td>RM</td>\n",
       "      <td>2.3</td>\n",
       "      <td>3.5</td>\n",
       "      <td>3.2</td>\n",
       "      <td>3.05</td>\n",
       "      <td>24823</td>\n",
       "      <td>8274200</td>\n",
       "    </tr>\n",
       "    <tr>\n",
       "      <th>6535</th>\n",
       "      <td>P09189</td>\n",
       "      <td>Anna Nagar</td>\n",
       "      <td>1864</td>\n",
       "      <td>184</td>\n",
       "      <td>2.0</td>\n",
       "      <td>NaN</td>\n",
       "      <td>5</td>\n",
       "      <td>Family</td>\n",
       "      <td>Yes</td>\n",
       "      <td>Others</td>\n",
       "      <td>NoSewr</td>\n",
       "      <td>Paved</td>\n",
       "      <td>RM</td>\n",
       "      <td>3.3</td>\n",
       "      <td>3.7</td>\n",
       "      <td>4.7</td>\n",
       "      <td>3.96</td>\n",
       "      <td>124455</td>\n",
       "      <td>15556920</td>\n",
       "    </tr>\n",
       "  </tbody>\n",
       "</table>\n",
       "</div>"
      ],
      "text/plain": [
       "      PRT_ID        AREA  INT_SQFT  DIST_MAINROAD  N_BEDROOM  N_BATHROOM  \\\n",
       "70    P05304  Anna Nagar      1589             39        1.0         NaN   \n",
       "5087  P01333    Chrompet      1016            105        1.0         NaN   \n",
       "6134  P01332    Chormpet       916            173        1.0         NaN   \n",
       "6371  P01189    Chrompet      1035             90        1.0         NaN   \n",
       "6535  P09189  Anna Nagar      1864            184        2.0         NaN   \n",
       "\n",
       "      N_ROOM    SALE_COND PARK_FACIL BUILDTYPE UTILITY_AVAIL     STREET  \\\n",
       "70         4      Partial         No    Others        AllPub     Gravel   \n",
       "5087       3     AbNormal        Yes    Others       NoSewr      Gravel   \n",
       "6134       3  Normal Sale        Yes    Others           ELO      Paved   \n",
       "6371       3      Partial         No    Others        NoSeWa  No Access   \n",
       "6535       5       Family        Yes    Others       NoSewr       Paved   \n",
       "\n",
       "     MZZONE  QS_ROOMS  QS_BATHROOM  QS_BEDROOM  QS_OVERALL  COMMIS  \\\n",
       "70       RL       2.1          2.5         4.5        3.16   85486   \n",
       "5087     RM       3.2          4.2         2.0        3.24  106479   \n",
       "6134     RL       3.4          3.5         3.0         NaN   44237   \n",
       "6371     RM       2.3          3.5         3.2        3.05   24823   \n",
       "6535     RM       3.3          3.7         4.7        3.96  124455   \n",
       "\n",
       "      SALES_PRICE  \n",
       "70       12212350  \n",
       "5087     10647920  \n",
       "6134      8847420  \n",
       "6371      8274200  \n",
       "6535     15556920  "
      ]
     },
     "execution_count": 29,
     "metadata": {},
     "output_type": "execute_result"
    }
   ],
   "source": [
    "df.loc[df['N_BATHROOM'].isnull()==True]"
   ]
  },
  {
   "cell_type": "code",
   "execution_count": 30,
   "metadata": {},
   "outputs": [
    {
     "name": "stderr",
     "output_type": "stream",
     "text": [
      "<ipython-input-30-f2d96596fdec>:4: SettingWithCopyWarning: \n",
      "A value is trying to be set on a copy of a slice from a DataFrame\n",
      "\n",
      "See the caveats in the documentation: https://pandas.pydata.org/pandas-docs/stable/user_guide/indexing.html#returning-a-view-versus-a-copy\n",
      "  df['N_BATHROOM'][i] = 1.0\n",
      "<ipython-input-30-f2d96596fdec>:6: SettingWithCopyWarning: \n",
      "A value is trying to be set on a copy of a slice from a DataFrame\n",
      "\n",
      "See the caveats in the documentation: https://pandas.pydata.org/pandas-docs/stable/user_guide/indexing.html#returning-a-view-versus-a-copy\n",
      "  df['N_BATHROOM'][i] = 2.0\n"
     ]
    }
   ],
   "source": [
    "for i in range(0, len(df)):\n",
    "    if pd.isnull(df['N_BATHROOM'][i])==True:\n",
    "        if (df['N_BEDROOM'][i] == 1.0):\n",
    "            df['N_BATHROOM'][i] = 1.0\n",
    "        else: \n",
    "            df['N_BATHROOM'][i] = 2.0"
   ]
  },
  {
   "cell_type": "markdown",
   "metadata": {},
   "source": [
    "#### 3. QS_OVERALL"
   ]
  },
  {
   "cell_type": "code",
   "execution_count": 31,
   "metadata": {
    "scrolled": false
   },
   "outputs": [
    {
     "data": {
      "text/html": [
       "<div>\n",
       "<style scoped>\n",
       "    .dataframe tbody tr th:only-of-type {\n",
       "        vertical-align: middle;\n",
       "    }\n",
       "\n",
       "    .dataframe tbody tr th {\n",
       "        vertical-align: top;\n",
       "    }\n",
       "\n",
       "    .dataframe thead th {\n",
       "        text-align: right;\n",
       "    }\n",
       "</style>\n",
       "<table border=\"1\" class=\"dataframe\">\n",
       "  <thead>\n",
       "    <tr style=\"text-align: right;\">\n",
       "      <th></th>\n",
       "      <th>QS_ROOMS</th>\n",
       "      <th>QS_BATHROOM</th>\n",
       "      <th>QS_BEDROOM</th>\n",
       "      <th>QS_OVERALL</th>\n",
       "    </tr>\n",
       "  </thead>\n",
       "  <tbody>\n",
       "    <tr>\n",
       "      <th>0</th>\n",
       "      <td>4.0</td>\n",
       "      <td>3.9</td>\n",
       "      <td>4.9</td>\n",
       "      <td>4.330</td>\n",
       "    </tr>\n",
       "    <tr>\n",
       "      <th>1</th>\n",
       "      <td>4.9</td>\n",
       "      <td>4.2</td>\n",
       "      <td>2.5</td>\n",
       "      <td>3.765</td>\n",
       "    </tr>\n",
       "    <tr>\n",
       "      <th>2</th>\n",
       "      <td>4.1</td>\n",
       "      <td>3.8</td>\n",
       "      <td>2.2</td>\n",
       "      <td>3.090</td>\n",
       "    </tr>\n",
       "    <tr>\n",
       "      <th>3</th>\n",
       "      <td>4.7</td>\n",
       "      <td>3.9</td>\n",
       "      <td>3.6</td>\n",
       "      <td>4.010</td>\n",
       "    </tr>\n",
       "    <tr>\n",
       "      <th>4</th>\n",
       "      <td>3.0</td>\n",
       "      <td>2.5</td>\n",
       "      <td>4.1</td>\n",
       "      <td>3.290</td>\n",
       "    </tr>\n",
       "  </tbody>\n",
       "</table>\n",
       "</div>"
      ],
      "text/plain": [
       "   QS_ROOMS  QS_BATHROOM  QS_BEDROOM  QS_OVERALL\n",
       "0       4.0          3.9         4.9       4.330\n",
       "1       4.9          4.2         2.5       3.765\n",
       "2       4.1          3.8         2.2       3.090\n",
       "3       4.7          3.9         3.6       4.010\n",
       "4       3.0          2.5         4.1       3.290"
      ]
     },
     "execution_count": 31,
     "metadata": {},
     "output_type": "execute_result"
    }
   ],
   "source": [
    "df[[ 'QS_ROOMS','QS_BATHROOM', 'QS_BEDROOM', 'QS_OVERALL']].head()"
   ]
  },
  {
   "cell_type": "code",
   "execution_count": 32,
   "metadata": {
    "scrolled": true
   },
   "outputs": [
    {
     "data": {
      "text/html": [
       "<div>\n",
       "<style scoped>\n",
       "    .dataframe tbody tr th:only-of-type {\n",
       "        vertical-align: middle;\n",
       "    }\n",
       "\n",
       "    .dataframe tbody tr th {\n",
       "        vertical-align: top;\n",
       "    }\n",
       "\n",
       "    .dataframe thead th {\n",
       "        text-align: right;\n",
       "    }\n",
       "</style>\n",
       "<table border=\"1\" class=\"dataframe\">\n",
       "  <thead>\n",
       "    <tr style=\"text-align: right;\">\n",
       "      <th></th>\n",
       "      <th>QS_ROOMS</th>\n",
       "      <th>QS_BATHROOM</th>\n",
       "      <th>QS_BEDROOM</th>\n",
       "      <th>0</th>\n",
       "    </tr>\n",
       "  </thead>\n",
       "  <tbody>\n",
       "    <tr>\n",
       "      <th>0</th>\n",
       "      <td>4.0</td>\n",
       "      <td>3.9</td>\n",
       "      <td>4.9</td>\n",
       "      <td>4.266667</td>\n",
       "    </tr>\n",
       "    <tr>\n",
       "      <th>1</th>\n",
       "      <td>4.9</td>\n",
       "      <td>4.2</td>\n",
       "      <td>2.5</td>\n",
       "      <td>3.866667</td>\n",
       "    </tr>\n",
       "    <tr>\n",
       "      <th>2</th>\n",
       "      <td>4.1</td>\n",
       "      <td>3.8</td>\n",
       "      <td>2.2</td>\n",
       "      <td>3.366667</td>\n",
       "    </tr>\n",
       "    <tr>\n",
       "      <th>3</th>\n",
       "      <td>4.7</td>\n",
       "      <td>3.9</td>\n",
       "      <td>3.6</td>\n",
       "      <td>4.066667</td>\n",
       "    </tr>\n",
       "    <tr>\n",
       "      <th>4</th>\n",
       "      <td>3.0</td>\n",
       "      <td>2.5</td>\n",
       "      <td>4.1</td>\n",
       "      <td>3.200000</td>\n",
       "    </tr>\n",
       "    <tr>\n",
       "      <th>5</th>\n",
       "      <td>4.5</td>\n",
       "      <td>2.6</td>\n",
       "      <td>3.1</td>\n",
       "      <td>3.400000</td>\n",
       "    </tr>\n",
       "    <tr>\n",
       "      <th>6</th>\n",
       "      <td>3.6</td>\n",
       "      <td>2.1</td>\n",
       "      <td>2.5</td>\n",
       "      <td>2.733333</td>\n",
       "    </tr>\n",
       "    <tr>\n",
       "      <th>7</th>\n",
       "      <td>2.4</td>\n",
       "      <td>4.5</td>\n",
       "      <td>2.1</td>\n",
       "      <td>3.000000</td>\n",
       "    </tr>\n",
       "    <tr>\n",
       "      <th>8</th>\n",
       "      <td>2.9</td>\n",
       "      <td>3.7</td>\n",
       "      <td>4.0</td>\n",
       "      <td>3.533333</td>\n",
       "    </tr>\n",
       "    <tr>\n",
       "      <th>9</th>\n",
       "      <td>3.1</td>\n",
       "      <td>3.1</td>\n",
       "      <td>3.3</td>\n",
       "      <td>3.166667</td>\n",
       "    </tr>\n",
       "  </tbody>\n",
       "</table>\n",
       "</div>"
      ],
      "text/plain": [
       "   QS_ROOMS  QS_BATHROOM  QS_BEDROOM         0\n",
       "0       4.0          3.9         4.9  4.266667\n",
       "1       4.9          4.2         2.5  3.866667\n",
       "2       4.1          3.8         2.2  3.366667\n",
       "3       4.7          3.9         3.6  4.066667\n",
       "4       3.0          2.5         4.1  3.200000\n",
       "5       4.5          2.6         3.1  3.400000\n",
       "6       3.6          2.1         2.5  2.733333\n",
       "7       2.4          4.5         2.1  3.000000\n",
       "8       2.9          3.7         4.0  3.533333\n",
       "9       3.1          3.1         3.3  3.166667"
      ]
     },
     "execution_count": 32,
     "metadata": {},
     "output_type": "execute_result"
    }
   ],
   "source": [
    "temp = (df['QS_ROOMS'] + df['QS_BATHROOM'] + df['QS_BEDROOM'])/3\n",
    "pd.concat([df['QS_ROOMS'], df['QS_BATHROOM'], df['QS_BEDROOM'], temp], axis=1).head(10)"
   ]
  },
  {
   "cell_type": "markdown",
   "metadata": {},
   "source": [
    "- Imputing missing values with the help of other 'quality score' columns\n",
    "- Additionally we can assign higher weights to n_bedroom and lower to n_bathroom"
   ]
  },
  {
   "cell_type": "code",
   "execution_count": 33,
   "metadata": {
    "scrolled": true
   },
   "outputs": [
    {
     "data": {
      "text/plain": [
       "(48, 19)"
      ]
     },
     "execution_count": 33,
     "metadata": {},
     "output_type": "execute_result"
    }
   ],
   "source": [
    "df.loc[df['QS_OVERALL'].isnull()==True].shape"
   ]
  },
  {
   "cell_type": "code",
   "execution_count": 34,
   "metadata": {},
   "outputs": [],
   "source": [
    "def fill_na(x):\n",
    "    return ((x['QS_ROOMS'] + x['QS_BATHROOM'] + x['QS_BEDROOM'])/3)"
   ]
  },
  {
   "cell_type": "code",
   "execution_count": 35,
   "metadata": {},
   "outputs": [],
   "source": [
    "df['QS_OVERALL'] =  df.apply(lambda x: fill_na(x) if pd.isnull(x['QS_OVERALL']) else x['QS_OVERALL'], axis=1)"
   ]
  },
  {
   "cell_type": "code",
   "execution_count": 36,
   "metadata": {},
   "outputs": [
    {
     "data": {
      "text/plain": [
       "PRT_ID           0\n",
       "AREA             0\n",
       "INT_SQFT         0\n",
       "DIST_MAINROAD    0\n",
       "N_BEDROOM        0\n",
       "N_BATHROOM       0\n",
       "N_ROOM           0\n",
       "SALE_COND        0\n",
       "PARK_FACIL       0\n",
       "BUILDTYPE        0\n",
       "UTILITY_AVAIL    0\n",
       "STREET           0\n",
       "MZZONE           0\n",
       "QS_ROOMS         0\n",
       "QS_BATHROOM      0\n",
       "QS_BEDROOM       0\n",
       "QS_OVERALL       0\n",
       "COMMIS           0\n",
       "SALES_PRICE      0\n",
       "dtype: int64"
      ]
     },
     "execution_count": 36,
     "metadata": {},
     "output_type": "execute_result"
    }
   ],
   "source": [
    "df.isnull().sum()"
   ]
  },
  {
   "cell_type": "markdown",
   "metadata": {},
   "source": [
    "### Data Types"
   ]
  },
  {
   "cell_type": "code",
   "execution_count": 37,
   "metadata": {},
   "outputs": [
    {
     "data": {
      "text/plain": [
       "PRT_ID            object\n",
       "AREA              object\n",
       "INT_SQFT           int64\n",
       "DIST_MAINROAD      int64\n",
       "N_BEDROOM        float64\n",
       "N_BATHROOM       float64\n",
       "N_ROOM             int64\n",
       "SALE_COND         object\n",
       "PARK_FACIL        object\n",
       "BUILDTYPE         object\n",
       "UTILITY_AVAIL     object\n",
       "STREET            object\n",
       "MZZONE            object\n",
       "QS_ROOMS         float64\n",
       "QS_BATHROOM      float64\n",
       "QS_BEDROOM       float64\n",
       "QS_OVERALL       float64\n",
       "COMMIS             int64\n",
       "SALES_PRICE        int64\n",
       "dtype: object"
      ]
     },
     "execution_count": 37,
     "metadata": {},
     "output_type": "execute_result"
    }
   ],
   "source": [
    "df.dtypes"
   ]
  },
  {
   "cell_type": "code",
   "execution_count": 38,
   "metadata": {},
   "outputs": [],
   "source": [
    "# data type of n_bedroom, n_room, n_bathroom\n",
    "\n",
    "df = df.astype({'N_BEDROOM': 'object', 'N_ROOM': 'object', 'N_BATHROOM': 'object'})"
   ]
  },
  {
   "cell_type": "markdown",
   "metadata": {},
   "source": [
    "### Replace categories"
   ]
  },
  {
   "cell_type": "code",
   "execution_count": 39,
   "metadata": {},
   "outputs": [
    {
     "name": "stdout",
     "output_type": "stream",
     "text": [
      "************ Value Count in AREA ************\n",
      "Chrompet      1681\n",
      "Karapakkam    1363\n",
      "KK Nagar       996\n",
      "Velachery      979\n",
      "Anna Nagar     783\n",
      "Adyar          773\n",
      "T Nagar        496\n",
      "Chrompt          9\n",
      "Chormpet         6\n",
      "Chrmpet          6\n",
      "TNagar           5\n",
      "Karapakam        3\n",
      "Ana Nagar        3\n",
      "Velchery         2\n",
      "Ann Nagar        2\n",
      "KKNagar          1\n",
      "Adyr             1\n",
      "Name: AREA, dtype: int64\n",
      "\n",
      "************ Value Count in N_BEDROOM ************\n",
      "1.0    3796\n",
      "2.0    2352\n",
      "3.0     707\n",
      "4.0     254\n",
      "Name: N_BEDROOM, dtype: int64\n",
      "\n",
      "************ Value Count in N_BATHROOM ************\n",
      "1.0    5593\n",
      "2.0    1516\n",
      "Name: N_BATHROOM, dtype: int64\n",
      "\n",
      "************ Value Count in N_ROOM ************\n",
      "4    2563\n",
      "3    2125\n",
      "5    1246\n",
      "2     921\n",
      "6     254\n",
      "Name: N_ROOM, dtype: int64\n",
      "\n",
      "************ Value Count in SALE_COND ************\n",
      "AdjLand        1433\n",
      "Partial        1429\n",
      "Normal Sale    1423\n",
      "AbNormal       1406\n",
      "Family         1403\n",
      "Adj Land          6\n",
      "Ab Normal         5\n",
      "Partiall          3\n",
      "PartiaLl          1\n",
      "Name: SALE_COND, dtype: int64\n",
      "\n",
      "************ Value Count in PARK_FACIL ************\n",
      "Yes    3587\n",
      "No     3520\n",
      "Noo       2\n",
      "Name: PARK_FACIL, dtype: int64\n",
      "\n",
      "************ Value Count in BUILDTYPE ************\n",
      "House         2444\n",
      "Commercial    2325\n",
      "Others        2310\n",
      "Other           26\n",
      "Comercial        4\n",
      "Name: BUILDTYPE, dtype: int64\n",
      "\n",
      "************ Value Count in UTILITY_AVAIL ************\n",
      "AllPub     1886\n",
      "NoSeWa     1871\n",
      "NoSewr     1829\n",
      "ELO        1522\n",
      "All Pub       1\n",
      "Name: UTILITY_AVAIL, dtype: int64\n",
      "\n",
      "************ Value Count in STREET ************\n",
      "Paved        2560\n",
      "Gravel       2520\n",
      "No Access    2010\n",
      "Pavd           12\n",
      "NoAccess        7\n",
      "Name: STREET, dtype: int64\n",
      "\n",
      "************ Value Count in MZZONE ************\n",
      "RL    1858\n",
      "RH    1822\n",
      "RM    1817\n",
      "C      550\n",
      "A      537\n",
      "I      525\n",
      "Name: MZZONE, dtype: int64\n",
      "\n"
     ]
    }
   ],
   "source": [
    "temp = ['AREA','N_BEDROOM','N_BATHROOM','N_ROOM','SALE_COND','PARK_FACIL','BUILDTYPE','UTILITY_AVAIL','STREET','MZZONE']\n",
    "for i in temp:\n",
    "    print('************ Value Count in', i, '************')\n",
    "    print(df[i].value_counts())\n",
    "    print('')"
   ]
  },
  {
   "cell_type": "markdown",
   "metadata": {},
   "source": [
    "**Update names in column**\n",
    "- AREA\n",
    "- SALE_COND\n",
    "- PARK_FACIL\n",
    "- BUILDTYPE\n",
    "- UTILITY_AVAIL\n",
    "- STREET"
   ]
  },
  {
   "cell_type": "code",
   "execution_count": 40,
   "metadata": {},
   "outputs": [
    {
     "data": {
      "text/plain": [
       "Yes    3587\n",
       "No     3522\n",
       "Name: PARK_FACIL, dtype: int64"
      ]
     },
     "execution_count": 40,
     "metadata": {},
     "output_type": "execute_result"
    }
   ],
   "source": [
    "df['PARK_FACIL'].replace({'Noo':'No'}, inplace = True)\n",
    "df['PARK_FACIL'].value_counts()"
   ]
  },
  {
   "cell_type": "code",
   "execution_count": 41,
   "metadata": {},
   "outputs": [],
   "source": [
    "df['AREA'].replace({'TNagar':'T Nagar', 'Adyr': 'Adyar', 'KKNagar': 'KK Nagar',  \n",
    "                    'Chrompt': 'Chrompet', 'Chormpet': 'Chrompet','Chrmpet': 'Chrompet',\n",
    "                    'Ana Nagar': 'Anna Nagar', 'Ann Nagar': 'Anna Nagar',\n",
    "                     'Karapakam': 'Karapakkam' , 'Velchery': 'Velachery'}, inplace = True)"
   ]
  },
  {
   "cell_type": "code",
   "execution_count": 42,
   "metadata": {},
   "outputs": [
    {
     "data": {
      "text/plain": [
       "Chrompet      1702\n",
       "Karapakkam    1366\n",
       "KK Nagar       997\n",
       "Velachery      981\n",
       "Anna Nagar     788\n",
       "Adyar          774\n",
       "T Nagar        501\n",
       "Name: AREA, dtype: int64"
      ]
     },
     "execution_count": 42,
     "metadata": {},
     "output_type": "execute_result"
    }
   ],
   "source": [
    "df['AREA'].value_counts()"
   ]
  },
  {
   "cell_type": "code",
   "execution_count": 43,
   "metadata": {},
   "outputs": [
    {
     "data": {
      "text/plain": [
       "AdjLand        1439\n",
       "Partial        1433\n",
       "Normal Sale    1423\n",
       "AbNormal       1411\n",
       "Family         1403\n",
       "Name: SALE_COND, dtype: int64"
      ]
     },
     "execution_count": 43,
     "metadata": {},
     "output_type": "execute_result"
    }
   ],
   "source": [
    "df['SALE_COND'].replace({'PartiaLl':'Partial', 'Partiall': 'Partial', \n",
    "                         'Adj Land': 'AdjLand',  \n",
    "                         'Ab Normal': 'AbNormal'}, inplace = True)\n",
    "df['SALE_COND'].value_counts()"
   ]
  },
  {
   "cell_type": "code",
   "execution_count": 44,
   "metadata": {},
   "outputs": [],
   "source": [
    "df['BUILDTYPE'].replace({'Comercial':'Commercial', 'Other': 'Others'},inplace = True)\n",
    "df['UTILITY_AVAIL'].replace({'All Pub':'AllPub'},inplace = True)\n",
    "df['STREET'].replace({'NoAccess':'No Access', 'Pavd':'Paved'},inplace = True)\n"
   ]
  },
  {
   "cell_type": "markdown",
   "metadata": {
    "collapsed": true
   },
   "source": [
    "# BIVARIATE ANALYSIS"
   ]
  },
  {
   "cell_type": "markdown",
   "metadata": {},
   "source": [
    "  \n",
    "## House Features\n",
    "   - INT_SQFT – The interior Sq. Ft of the property\n",
    "   - N_BEDROOM – The number of Bed rooms\n",
    "   - N_BATHROOM - The number of bathrooms\n",
    "   - N_ROOM – Total Number of Rooms\n",
    "   - QS_ROOMS – The quality score assigned for rooms based on buyer reviews\n",
    "   - QS_BATHROOM – The quality score assigned for bathroom based on buyer reviews\n",
    "   - QS_BEDROOM – The quality score assigned for bedroom based on buyer reviews\n",
    "   - QS_OVERALL – The Overall quality score assigned for the property\n",
    "   - SALE_COND – The Sale Condition\n",
    "       - Normal: Normal Sale\n",
    "       - Abnorml: Abnormal Sale - trade, foreclosure, short sale\n",
    "       - AdjLand: Adjoining Land Purchase\n",
    "       - Family: Sale between family members\n",
    "       - Partial: Home was not completed when last assessed\n",
    "   - BUILDTYPE – The type of building\n",
    "        - House\n",
    "        - Commercial\n",
    "        - Others\n",
    "\n",
    "\n",
    "\n",
    "## Surrounding and Locality\n",
    "   - AREA – The property in which the real estate is located\n",
    "   - DIST_MAINROAD – The distance of the property to the main road\n",
    "   - PARK_FACIL – Whether parking facility is available\n",
    "   - UTILITY_AVAIL\n",
    "        - AllPub: All public Utilities (E,G,W,& S)\n",
    "        - NoSewr: Electricity, Gas, and Water (Septic Tank)\n",
    "        - NoSeWa: Electricity and Gas Only\n",
    "        - ELO: Electricity only\n",
    "   - STREET\n",
    "        - Gravel\n",
    "        - Paved\n",
    "        - No Access\n",
    "   - MZZONE\n",
    "        - A: Agriculture\n",
    "        - C: Commercial\n",
    "        - I: Industrial\n",
    "        - RH: Residential High Density\n",
    "        - RL: Residential Low Density\n",
    "        - RM: Residential Medium Density\n",
    "        \n",
    "\n",
    "## House Sale Price\n",
    "   - PRT_ID – The Property Transaction ID assigned by ChennaiEstate\n",
    "   - COMMIS – The Commission paid to the agent\n",
    "   - SALES_PRICE – The total sale price of the property\n"
   ]
  },
  {
   "cell_type": "code",
   "execution_count": 45,
   "metadata": {},
   "outputs": [
    {
     "data": {
      "text/plain": [
       "Index(['PRT_ID', 'AREA', 'INT_SQFT', 'DIST_MAINROAD', 'N_BEDROOM',\n",
       "       'N_BATHROOM', 'N_ROOM', 'SALE_COND', 'PARK_FACIL', 'BUILDTYPE',\n",
       "       'UTILITY_AVAIL', 'STREET', 'MZZONE', 'QS_ROOMS', 'QS_BATHROOM',\n",
       "       'QS_BEDROOM', 'QS_OVERALL', 'COMMIS', 'SALES_PRICE'],\n",
       "      dtype='object')"
      ]
     },
     "execution_count": 45,
     "metadata": {},
     "output_type": "execute_result"
    }
   ],
   "source": [
    "df.columns"
   ]
  },
  {
   "cell_type": "markdown",
   "metadata": {},
   "source": [
    "## Hypothesis -\n",
    " - Sales price should increase with increase in interior square feet\n",
    " - The sales price would depend on the area where house is located\n",
    " - Higher the number of rooms, bathrooms in the house, more should be the price "
   ]
  },
  {
   "cell_type": "markdown",
   "metadata": {},
   "source": [
    "  \n",
    "## 1. House Features\n",
    "   - INT_SQFT – The interior Sq. Ft of the property\n",
    "   - N_BEDROOM – The number of Bed rooms\n",
    "   - N_BATHROOM - The number of bathrooms\n",
    "   - N_ROOM – Total Number of Rooms\n",
    "   - QS_ROOMS – The quality score assigned for rooms based on buyer reviews\n",
    "   - QS_BATHROOM – The quality score assigned for bathroom based on buyer reviews\n",
    "   - QS_BEDROOM – The quality score assigned for bedroom based on buyer reviews\n",
    "   - QS_OVERALL – The Overall quality score assigned for the property\n",
    "   - SALE_COND – The Sale Condition\n",
    "   - BUILDTYPE – The type of building"
   ]
  },
  {
   "cell_type": "markdown",
   "metadata": {},
   "source": [
    "**1. Interior area and sales price (target)**"
   ]
  },
  {
   "cell_type": "code",
   "execution_count": 46,
   "metadata": {},
   "outputs": [
    {
     "data": {
      "text/plain": [
       "<matplotlib.axes._subplots.AxesSubplot at 0x204d75f1310>"
      ]
     },
     "execution_count": 46,
     "metadata": {},
     "output_type": "execute_result"
    },
    {
     "data": {
      "image/png": "[encoded data removed]",
      "text/plain": [
       "<Figure size 432x288 with 1 Axes>"
      ]
     },
     "metadata": {
      "needs_background": "light"
     },
     "output_type": "display_data"
    }
   ],
   "source": [
    "# interior area and sales price (target)\n",
    "\n",
    "df.plot.scatter('INT_SQFT','SALES_PRICE')"
   ]
  },
  {
   "cell_type": "markdown",
   "metadata": {},
   "source": [
    "- A very clear linear relationship can be seen between the interior area and sales price\n",
    "- These variables have a positive correlation"
   ]
  },
  {
   "cell_type": "code",
   "execution_count": 47,
   "metadata": {},
   "outputs": [
    {
     "data": {
      "image/png": "[encoded data removed]",
      "text/plain": [
       "<Figure size 432x288 with 1 Axes>"
      ]
     },
     "metadata": {
      "needs_background": "light"
     },
     "output_type": "display_data"
    }
   ],
   "source": [
    "fig, ax = plt.subplots()\n",
    "colors = {'Commercial':'red', 'House':'blue', 'Others':'green'}\n",
    "ax.scatter(df['INT_SQFT'], df['SALES_PRICE'], c=df['BUILDTYPE'].apply(lambda x: colors[x]))\n",
    "plt.show()"
   ]
  },
  {
   "cell_type": "markdown",
   "metadata": {},
   "source": [
    "** 2. Sales Price against no of bedroom and bathroom**"
   ]
  },
  {
   "cell_type": "code",
   "execution_count": 48,
   "metadata": {
    "scrolled": true
   },
   "outputs": [
    {
     "data": {
      "text/html": [
       "<div>\n",
       "<style scoped>\n",
       "    .dataframe tbody tr th:only-of-type {\n",
       "        vertical-align: middle;\n",
       "    }\n",
       "\n",
       "    .dataframe tbody tr th {\n",
       "        vertical-align: top;\n",
       "    }\n",
       "\n",
       "    .dataframe thead th {\n",
       "        text-align: right;\n",
       "    }\n",
       "</style>\n",
       "<table border=\"1\" class=\"dataframe\">\n",
       "  <thead>\n",
       "    <tr style=\"text-align: right;\">\n",
       "      <th>N_BATHROOM</th>\n",
       "      <th>1.0</th>\n",
       "      <th>2.0</th>\n",
       "    </tr>\n",
       "    <tr>\n",
       "      <th>N_BEDROOM</th>\n",
       "      <th></th>\n",
       "      <th></th>\n",
       "    </tr>\n",
       "  </thead>\n",
       "  <tbody>\n",
       "    <tr>\n",
       "      <th>1.0</th>\n",
       "      <td>9168740.0</td>\n",
       "      <td>NaN</td>\n",
       "    </tr>\n",
       "    <tr>\n",
       "      <th>2.0</th>\n",
       "      <td>12129780.0</td>\n",
       "      <td>9125250.0</td>\n",
       "    </tr>\n",
       "    <tr>\n",
       "      <th>3.0</th>\n",
       "      <td>NaN</td>\n",
       "      <td>11663490.0</td>\n",
       "    </tr>\n",
       "    <tr>\n",
       "      <th>4.0</th>\n",
       "      <td>NaN</td>\n",
       "      <td>13172000.0</td>\n",
       "    </tr>\n",
       "  </tbody>\n",
       "</table>\n",
       "</div>"
      ],
      "text/plain": [
       "N_BATHROOM         1.0         2.0\n",
       "N_BEDROOM                         \n",
       "1.0          9168740.0         NaN\n",
       "2.0         12129780.0   9125250.0\n",
       "3.0                NaN  11663490.0\n",
       "4.0                NaN  13172000.0"
      ]
     },
     "execution_count": 48,
     "metadata": {},
     "output_type": "execute_result"
    }
   ],
   "source": [
    "# sale price of houses wrt number of bedrooms and bathroomms \n",
    "df.pivot_table(values='SALES_PRICE', index='N_BEDROOM', columns='N_BATHROOM', aggfunc='median')"
   ]
  },
  {
   "cell_type": "markdown",
   "metadata": {},
   "source": [
    "**3. QS_OVERALL and sales price **"
   ]
  },
  {
   "cell_type": "code",
   "execution_count": 49,
   "metadata": {},
   "outputs": [
    {
     "data": {
      "text/plain": [
       "<matplotlib.axes._subplots.AxesSubplot at 0x204d76b05b0>"
      ]
     },
     "execution_count": 49,
     "metadata": {},
     "output_type": "execute_result"
    },
    {
     "data": {
      "image/png": "[encoded data removed]",
      "text/plain": [
       "<Figure size 432x288 with 1 Axes>"
      ]
     },
     "metadata": {
      "needs_background": "light"
     },
     "output_type": "display_data"
    }
   ],
   "source": [
    "#QS_OVERALL and sales price\n",
    "\n",
    "df.plot.scatter('QS_OVERALL', 'SALES_PRICE')"
   ]
  },
  {
   "cell_type": "code",
   "execution_count": 50,
   "metadata": {},
   "outputs": [
    {
     "data": {
      "text/plain": [
       "Text(0.5, 1.0, 'QS_OVERALL')"
      ]
     },
     "execution_count": 50,
     "metadata": {},
     "output_type": "execute_result"
    },
    {
     "data": {
      "image/png": "[encoded data removed]",
      "text/plain": [
       "<Figure size 720x720 with 4 Axes>"
      ]
     },
     "metadata": {
      "needs_background": "light"
     },
     "output_type": "display_data"
    }
   ],
   "source": [
    "fig, axs = plt.subplots(2, 2)\n",
    "\n",
    "fig.set_figheight(10)\n",
    "fig.set_figwidth(10)\n",
    "\n",
    "axs[0, 0].scatter(df['QS_BEDROOM'], df['SALES_PRICE'])    # QS_BEDROOM and sale price\n",
    "axs[0, 0].set_title('QS_BEDROOM')\n",
    "\n",
    "axs[0, 1].scatter(df['QS_BATHROOM'], df['SALES_PRICE'])   # QS_BATHROOM and price\n",
    "axs[0, 1].set_title('QS_BATHROOM')\n",
    "\n",
    "axs[1, 0].scatter(df['QS_ROOMS'], df['SALES_PRICE'])    # QS_ROOMS and sale price\n",
    "axs[1, 0].set_title('QS_ROOMS')\n",
    "\n",
    "axs[1, 1].scatter(df['QS_OVERALL'], df['SALES_PRICE'])    # QS_OVERALL and sale price\n",
    "axs[1, 1].set_title('QS_OVERALL')\n",
    "\n"
   ]
  },
  {
   "cell_type": "code",
   "execution_count": 51,
   "metadata": {
    "scrolled": true
   },
   "outputs": [
    {
     "data": {
      "image/png": "[encoded data removed]",
      "text/plain": [
       "<Figure size 432x288 with 1 Axes>"
      ]
     },
     "metadata": {
      "needs_background": "light"
     },
     "output_type": "display_data"
    }
   ],
   "source": [
    "# Create an axes instance\n",
    "ax = plt.figure().add_subplot(111)\n",
    "ax.set_title('Quality score for Houses')\n",
    "\n",
    "# Create the boxplot\n",
    "bp = ax.boxplot([df['QS_BEDROOM'], df['QS_ROOMS'], df['QS_BATHROOM'], df['QS_OVERALL']])\n"
   ]
  },
  {
   "cell_type": "markdown",
   "metadata": {},
   "source": [
    "- Distribution of number of houses in each quartile is same for 'QS_ROOMS', 'QS_BATHROOM','QS_BEDROOM'\n",
    "- For QS_OVERALL, 50 % of values lie in a very small range of ~3.2 to 3.7 score"
   ]
  },
  {
   "cell_type": "markdown",
   "metadata": {},
   "source": [
    "** 4. Building type and sales price**"
   ]
  },
  {
   "cell_type": "code",
   "execution_count": 52,
   "metadata": {
    "scrolled": true
   },
   "outputs": [
    {
     "data": {
      "text/plain": [
       "BUILDTYPE\n",
       "Commercial    13356200\n",
       "House          8985370\n",
       "Others         9637260\n",
       "Name: SALES_PRICE, dtype: int64"
      ]
     },
     "execution_count": 52,
     "metadata": {},
     "output_type": "execute_result"
    }
   ],
   "source": [
    "# SALE PRICE based on building type\n",
    "\n",
    "df.groupby('BUILDTYPE').SALES_PRICE.median()"
   ]
  },
  {
   "cell_type": "markdown",
   "metadata": {},
   "source": [
    "- Houses built for commercial purposes have a considerably higher sale price\n",
    "- Houses with additional facility should have higher price"
   ]
  },
  {
   "cell_type": "code",
   "execution_count": 53,
   "metadata": {},
   "outputs": [
    {
     "data": {
      "text/plain": [
       "<matplotlib.axes._subplots.AxesSubplot at 0x204d78a8bb0>"
      ]
     },
     "execution_count": 53,
     "metadata": {},
     "output_type": "execute_result"
    },
    {
     "data": {
      "image/png": "[encoded data removed]",
      "text/plain": [
       "<Figure size 432x288 with 1 Axes>"
      ]
     },
     "metadata": {
      "needs_background": "light"
     },
     "output_type": "display_data"
    }
   ],
   "source": [
    "temp_df = df.loc[(df['BUILDTYPE']=='Commercial')&(df['AREA']=='Anna Nagar')]\n",
    "temp_df['SALES_PRICE'].plot.hist(bins=50)"
   ]
  },
  {
   "cell_type": "code",
   "execution_count": 54,
   "metadata": {},
   "outputs": [
    {
     "data": {
      "text/plain": [
       "<matplotlib.axes._subplots.AxesSubplot at 0x204d7ab0c40>"
      ]
     },
     "execution_count": 54,
     "metadata": {},
     "output_type": "execute_result"
    },
    {
     "data": {
      "image/png": "[encoded data removed]",
      "text/plain": [
       "<Figure size 432x288 with 1 Axes>"
      ]
     },
     "metadata": {
      "needs_background": "light"
     },
     "output_type": "display_data"
    }
   ],
   "source": [
    "temp_df = df.loc[(df['BUILDTYPE']=='House')&(df['AREA']=='Anna Nagar')]\n",
    "temp_df['SALES_PRICE'].plot.hist(bins=50)"
   ]
  },
  {
   "cell_type": "markdown",
   "metadata": {},
   "source": [
    "## Surrounding and Locality\n",
    "   - AREA – The property in which the real estate is located\n",
    "   - DIST_MAINROAD – The distance of the property to the main road\n",
    "   - PARK_FACIL – Whether parking facility is available\n",
    "   - UTILITY_AVAIL\n",
    "   - STREET\n",
    "   - MZZONE  "
   ]
  },
  {
   "cell_type": "markdown",
   "metadata": {},
   "source": [
    "**5. Building type and parking facility**"
   ]
  },
  {
   "cell_type": "code",
   "execution_count": 55,
   "metadata": {
    "scrolled": false
   },
   "outputs": [
    {
     "data": {
      "text/plain": [
       "BUILDTYPE   PARK_FACIL\n",
       "Commercial  No            12692985\n",
       "            Yes           13920600\n",
       "House       No             8514140\n",
       "            Yes            9468150\n",
       "Others      No             9104645\n",
       "            Yes           10039405\n",
       "Name: SALES_PRICE, dtype: int64"
      ]
     },
     "execution_count": 55,
     "metadata": {},
     "output_type": "execute_result"
    }
   ],
   "source": [
    "# building type and parking facility\n",
    "\n",
    "df.groupby(['BUILDTYPE', 'PARK_FACIL']).SALES_PRICE.median()"
   ]
  },
  {
   "cell_type": "markdown",
   "metadata": {},
   "source": [
    "- For all three categories, houses with park facility have a higher price\n",
    "- we can use groupby function to generate a plot for better comparison"
   ]
  },
  {
   "cell_type": "code",
   "execution_count": 56,
   "metadata": {
    "scrolled": false
   },
   "outputs": [
    {
     "data": {
      "text/plain": [
       "<matplotlib.axes._subplots.AxesSubplot at 0x204d7d13520>"
      ]
     },
     "execution_count": 56,
     "metadata": {},
     "output_type": "execute_result"
    },
    {
     "data": {
      "image/png": "[encoded data removed]",
      "text/plain": [
       "<Figure size 432x288 with 1 Axes>"
      ]
     },
     "metadata": {
      "needs_background": "light"
     },
     "output_type": "display_data"
    }
   ],
   "source": [
    "temp = df.groupby(['BUILDTYPE', 'PARK_FACIL']).SALES_PRICE.median()\n",
    "temp.plot(kind = 'bar', stacked = True)"
   ]
  },
  {
   "cell_type": "markdown",
   "metadata": {},
   "source": [
    "**6. Area-wise price for houses**"
   ]
  },
  {
   "cell_type": "code",
   "execution_count": 57,
   "metadata": {
    "scrolled": true
   },
   "outputs": [
    {
     "data": {
      "text/html": [
       "<div>\n",
       "<style scoped>\n",
       "    .dataframe tbody tr th:only-of-type {\n",
       "        vertical-align: middle;\n",
       "    }\n",
       "\n",
       "    .dataframe tbody tr th {\n",
       "        vertical-align: top;\n",
       "    }\n",
       "\n",
       "    .dataframe thead th {\n",
       "        text-align: right;\n",
       "    }\n",
       "</style>\n",
       "<table border=\"1\" class=\"dataframe\">\n",
       "  <thead>\n",
       "    <tr style=\"text-align: right;\">\n",
       "      <th></th>\n",
       "      <th>SALES_PRICE</th>\n",
       "    </tr>\n",
       "    <tr>\n",
       "      <th>AREA</th>\n",
       "      <th></th>\n",
       "    </tr>\n",
       "  </thead>\n",
       "  <tbody>\n",
       "    <tr>\n",
       "      <th>Adyar</th>\n",
       "      <td>8878350</td>\n",
       "    </tr>\n",
       "    <tr>\n",
       "      <th>Anna Nagar</th>\n",
       "      <td>13727895</td>\n",
       "    </tr>\n",
       "    <tr>\n",
       "      <th>Chrompet</th>\n",
       "      <td>9606725</td>\n",
       "    </tr>\n",
       "    <tr>\n",
       "      <th>KK Nagar</th>\n",
       "      <td>12146740</td>\n",
       "    </tr>\n",
       "    <tr>\n",
       "      <th>Karapakkam</th>\n",
       "      <td>7043125</td>\n",
       "    </tr>\n",
       "    <tr>\n",
       "      <th>T Nagar</th>\n",
       "      <td>14049650</td>\n",
       "    </tr>\n",
       "    <tr>\n",
       "      <th>Velachery</th>\n",
       "      <td>10494410</td>\n",
       "    </tr>\n",
       "  </tbody>\n",
       "</table>\n",
       "</div>"
      ],
      "text/plain": [
       "            SALES_PRICE\n",
       "AREA                   \n",
       "Adyar           8878350\n",
       "Anna Nagar     13727895\n",
       "Chrompet        9606725\n",
       "KK Nagar       12146740\n",
       "Karapakkam      7043125\n",
       "T Nagar        14049650\n",
       "Velachery      10494410"
      ]
     },
     "execution_count": 57,
     "metadata": {},
     "output_type": "execute_result"
    }
   ],
   "source": [
    "# average price for each area category\n",
    "\n",
    "df.pivot_table(values='SALES_PRICE', index='AREA', aggfunc='median')"
   ]
  },
  {
   "cell_type": "markdown",
   "metadata": {},
   "source": [
    "- Anna Nagar and T Nagar are comparatively more expensive\n",
    "- The least priced are among the 7 is karapakkam"
   ]
  },
  {
   "cell_type": "code",
   "execution_count": 58,
   "metadata": {},
   "outputs": [
    {
     "data": {
      "text/plain": [
       "<matplotlib.axes._subplots.AxesSubplot at 0x204d7d43df0>"
      ]
     },
     "execution_count": 58,
     "metadata": {},
     "output_type": "execute_result"
    },
    {
     "data": {
      "image/png": "[encoded data removed]",
      "text/plain": [
       "<Figure size 432x288 with 1 Axes>"
      ]
     },
     "metadata": {
      "needs_background": "light"
     },
     "output_type": "display_data"
    }
   ],
   "source": [
    "temp_df = df.loc[(df['AREA']=='Karapakkam')]\n",
    "temp_df['SALES_PRICE'].plot.hist(bins=50)"
   ]
  },
  {
   "cell_type": "code",
   "execution_count": 59,
   "metadata": {
    "scrolled": true
   },
   "outputs": [
    {
     "data": {
      "text/plain": [
       "<matplotlib.axes._subplots.AxesSubplot at 0x204d8e25c10>"
      ]
     },
     "execution_count": 59,
     "metadata": {},
     "output_type": "execute_result"
    },
    {
     "data": {
      "image/png": "[encoded data removed]",
      "text/plain": [
       "<Figure size 432x288 with 1 Axes>"
      ]
     },
     "metadata": {
      "needs_background": "light"
     },
     "output_type": "display_data"
    }
   ],
   "source": [
    "temp_df = df.loc[(df['AREA']=='Anna Nagar')]\n",
    "temp_df['SALES_PRICE'].plot.hist(bins=50)"
   ]
  },
  {
   "cell_type": "markdown",
   "metadata": {},
   "source": [
    "**7. Distance from main road **"
   ]
  },
  {
   "cell_type": "code",
   "execution_count": 60,
   "metadata": {},
   "outputs": [
    {
     "data": {
      "text/plain": [
       "<matplotlib.axes._subplots.AxesSubplot at 0x204d8e255b0>"
      ]
     },
     "execution_count": 60,
     "metadata": {},
     "output_type": "execute_result"
    },
    {
     "data": {
      "image/png": "[encoded data removed]",
      "text/plain": [
       "<Figure size 432x288 with 1 Axes>"
      ]
     },
     "metadata": {
      "needs_background": "light"
     },
     "output_type": "display_data"
    }
   ],
   "source": [
    "df.plot.scatter('DIST_MAINROAD', 'SALES_PRICE')"
   ]
  },
  {
   "cell_type": "markdown",
   "metadata": {},
   "source": [
    "**8. Type of street around the house**"
   ]
  },
  {
   "cell_type": "code",
   "execution_count": 61,
   "metadata": {
    "scrolled": true
   },
   "outputs": [
    {
     "data": {
      "text/plain": [
       "STREET\n",
       "Gravel       10847225\n",
       "No Access     9406050\n",
       "Paved        10470070\n",
       "Name: SALES_PRICE, dtype: int64"
      ]
     },
     "execution_count": 61,
     "metadata": {},
     "output_type": "execute_result"
    }
   ],
   "source": [
    "df.groupby(['STREET']).SALES_PRICE.median()"
   ]
  },
  {
   "cell_type": "markdown",
   "metadata": {},
   "source": [
    "- Both gravel and paved roads have approximately same sale price\n",
    "- Houses marked with 'no access' have a lower sale price"
   ]
  },
  {
   "cell_type": "markdown",
   "metadata": {},
   "source": [
    "## House Sale Price\n",
    "   - PRT_ID – The Property Transaction ID assigned by ChennaiEstate\n",
    "   - COMMIS – The Commission paid to the agent\n",
    "   - SALES_PRICE – The total sale price of the property\n"
   ]
  },
  {
   "cell_type": "code",
   "execution_count": 62,
   "metadata": {
    "scrolled": true
   },
   "outputs": [
    {
     "data": {
      "text/plain": [
       "<matplotlib.axes._subplots.AxesSubplot at 0x204d8e25130>"
      ]
     },
     "execution_count": 62,
     "metadata": {},
     "output_type": "execute_result"
    },
    {
     "data": {
      "image/png": "[encoded data removed]",
      "text/plain": [
       "<Figure size 432x288 with 1 Axes>"
      ]
     },
     "metadata": {
      "needs_background": "light"
     },
     "output_type": "display_data"
    }
   ],
   "source": [
    "# commission and sales price\n",
    "\n",
    "df.plot.scatter('SALES_PRICE', 'COMMIS')"
   ]
  },
  {
   "cell_type": "code",
   "execution_count": 63,
   "metadata": {
    "scrolled": false
   },
   "outputs": [
    {
     "data": {
      "text/html": [
       "<div>\n",
       "<style scoped>\n",
       "    .dataframe tbody tr th:only-of-type {\n",
       "        vertical-align: middle;\n",
       "    }\n",
       "\n",
       "    .dataframe tbody tr th {\n",
       "        vertical-align: top;\n",
       "    }\n",
       "\n",
       "    .dataframe thead th {\n",
       "        text-align: right;\n",
       "    }\n",
       "</style>\n",
       "<table border=\"1\" class=\"dataframe\">\n",
       "  <thead>\n",
       "    <tr style=\"text-align: right;\">\n",
       "      <th></th>\n",
       "      <th>SALES_PRICE</th>\n",
       "      <th>COMMIS</th>\n",
       "    </tr>\n",
       "  </thead>\n",
       "  <tbody>\n",
       "    <tr>\n",
       "      <th>SALES_PRICE</th>\n",
       "      <td>1.000000</td>\n",
       "      <td>0.626275</td>\n",
       "    </tr>\n",
       "    <tr>\n",
       "      <th>COMMIS</th>\n",
       "      <td>0.626275</td>\n",
       "      <td>1.000000</td>\n",
       "    </tr>\n",
       "  </tbody>\n",
       "</table>\n",
       "</div>"
      ],
      "text/plain": [
       "             SALES_PRICE    COMMIS\n",
       "SALES_PRICE     1.000000  0.626275\n",
       "COMMIS          0.626275  1.000000"
      ]
     },
     "execution_count": 63,
     "metadata": {},
     "output_type": "execute_result"
    }
   ],
   "source": [
    "df[['SALES_PRICE', 'COMMIS']].corr()"
   ]
  },
  {
   "cell_type": "code",
   "execution_count": 64,
   "metadata": {},
   "outputs": [],
   "source": [
    "df.drop(['PRT_ID'], axis=1, inplace = True)"
   ]
  },
  {
   "cell_type": "code",
   "execution_count": 65,
   "metadata": {},
   "outputs": [],
   "source": [
    "df = pd.get_dummies(df)"
   ]
  },
  {
   "cell_type": "code",
   "execution_count": 66,
   "metadata": {},
   "outputs": [],
   "source": [
    "x = df.drop('SALES_PRICE', axis=1)\n",
    "y= df['SALES_PRICE']"
   ]
  },
  {
   "cell_type": "code",
   "execution_count": 67,
   "metadata": {},
   "outputs": [
    {
     "name": "stdout",
     "output_type": "stream",
     "text": [
      "   INT_SQFT  DIST_MAINROAD  QS_ROOMS  QS_BATHROOM  QS_BEDROOM  QS_OVERALL  \\\n",
      "0      1004            131       4.0          3.9         4.9       4.330   \n",
      "1      1986             26       4.9          4.2         2.5       3.765   \n",
      "2       909             70       4.1          3.8         2.2       3.090   \n",
      "3      1855             14       4.7          3.9         3.6       4.010   \n",
      "4      1226             84       3.0          2.5         4.1       3.290   \n",
      "\n",
      "   COMMIS  AREA_Adyar  AREA_Anna Nagar  AREA_Chrompet  ...  \\\n",
      "0  144400           0                0              0  ...   \n",
      "1  304049           0                1              0  ...   \n",
      "2   92114           1                0              0  ...   \n",
      "3   77042           0                0              0  ...   \n",
      "4   74063           0                0              0  ...   \n",
      "\n",
      "   UTILITY_AVAIL_NoSewr   STREET_Gravel  STREET_No Access  STREET_Paved  \\\n",
      "0                      0              0                 0             1   \n",
      "1                      0              1                 0             0   \n",
      "2                      0              1                 0             0   \n",
      "3                      1              0                 0             1   \n",
      "4                      0              1                 0             0   \n",
      "\n",
      "   MZZONE_A  MZZONE_C  MZZONE_I  MZZONE_RH  MZZONE_RL  MZZONE_RM  \n",
      "0         1         0         0          0          0          0  \n",
      "1         0         0         0          1          0          0  \n",
      "2         0         0         0          0          1          0  \n",
      "3         0         0         1          0          0          0  \n",
      "4         0         1         0          0          0          0  \n",
      "\n",
      "[5 rows x 48 columns]\n"
     ]
    }
   ],
   "source": [
    "print(x.head(5))"
   ]
  },
  {
   "cell_type": "code",
   "execution_count": 68,
   "metadata": {},
   "outputs": [
    {
     "data": {
      "text/plain": [
       "(7109, 48)"
      ]
     },
     "execution_count": 68,
     "metadata": {},
     "output_type": "execute_result"
    }
   ],
   "source": [
    "x.shape"
   ]
  },
  {
   "cell_type": "markdown",
   "metadata": {},
   "source": [
    "### Train Test Split"
   ]
  },
  {
   "cell_type": "code",
   "execution_count": 69,
   "metadata": {},
   "outputs": [
    {
     "data": {
      "text/plain": [
       "((5687, 48), (1422, 48), (5687,), (1422,))"
      ]
     },
     "execution_count": 69,
     "metadata": {},
     "output_type": "execute_result"
    }
   ],
   "source": [
    "from sklearn.model_selection import train_test_split\n",
    "\n",
    "X_train, X_test, y_train, y_test = train_test_split(x, y, test_size=0.2, random_state=123)\n",
    "\n",
    "X_train.shape,X_test.shape,y_train.shape,y_test.shape"
   ]
  },
  {
   "cell_type": "code",
   "execution_count": 70,
   "metadata": {},
   "outputs": [],
   "source": [
    "from sklearn.preprocessing import StandardScaler"
   ]
  },
  {
   "cell_type": "code",
   "execution_count": 71,
   "metadata": {},
   "outputs": [],
   "source": [
    "scaler = StandardScaler()"
   ]
  },
  {
   "cell_type": "code",
   "execution_count": 72,
   "metadata": {},
   "outputs": [],
   "source": [
    "train_scaled = scaler.fit_transform(X_train)"
   ]
  },
  {
   "cell_type": "code",
   "execution_count": 73,
   "metadata": {},
   "outputs": [],
   "source": [
    "test_scaled = scaler.transform(X_test)"
   ]
  },
  {
   "cell_type": "code",
   "execution_count": 74,
   "metadata": {},
   "outputs": [],
   "source": [
    "from sklearn.linear_model import LinearRegression\n",
    "from sklearn.metrics import mean_squared_log_error"
   ]
  },
  {
   "cell_type": "code",
   "execution_count": 75,
   "metadata": {},
   "outputs": [],
   "source": [
    "from sklearn import model_selection"
   ]
  },
  {
   "cell_type": "markdown",
   "metadata": {},
   "source": [
    "# Linear Regression"
   ]
  },
  {
   "cell_type": "code",
   "execution_count": 76,
   "metadata": {},
   "outputs": [
    {
     "name": "stderr",
     "output_type": "stream",
     "text": [
      "C:\\Users\\user\\anaconda3\\lib\\site-packages\\sklearn\\model_selection\\_split.py:293: FutureWarning: Setting a random_state has no effect since shuffle is False. This will raise an error in 0.24. You should leave random_state to its default (None), or set shuffle=True.\n",
      "  warnings.warn(\n"
     ]
    }
   ],
   "source": [
    "seed=1\n",
    "kfold=model_selection.KFold(n_splits=10,random_state=seed)"
   ]
  },
  {
   "cell_type": "code",
   "execution_count": 77,
   "metadata": {},
   "outputs": [],
   "source": [
    "lreg = LinearRegression()\n",
    "\n"
   ]
  },
  {
   "cell_type": "code",
   "execution_count": 78,
   "metadata": {},
   "outputs": [
    {
     "data": {
      "text/plain": [
       "array([0.95468686, 0.95491385, 0.95602523, 0.95403669, 0.95810594,\n",
       "       0.95431579, 0.96027964, 0.95674563, 0.95113791, 0.95302273])"
      ]
     },
     "execution_count": 78,
     "metadata": {},
     "output_type": "execute_result"
    }
   ],
   "source": [
    "results=model_selection.cross_val_score(lreg,train_scaled, y_train,scoring='r2',cv=kfold)\n",
    "results"
   ]
  },
  {
   "cell_type": "code",
   "execution_count": 79,
   "metadata": {},
   "outputs": [
    {
     "data": {
      "text/plain": [
       "0.9553270270589372"
      ]
     },
     "execution_count": 79,
     "metadata": {},
     "output_type": "execute_result"
    }
   ],
   "source": [
    "results.mean()"
   ]
  },
  {
   "cell_type": "code",
   "execution_count": 80,
   "metadata": {},
   "outputs": [
    {
     "data": {
      "text/plain": [
       "0.9550239557125046"
      ]
     },
     "execution_count": 80,
     "metadata": {},
     "output_type": "execute_result"
    }
   ],
   "source": [
    "Adjusted_R2=1-(1-0.9553276768894602)*(7109-1)/(7109-48-1)\n",
    "Adjusted_R2"
   ]
  },
  {
   "cell_type": "markdown",
   "metadata": {},
   "source": [
    "# Random Forest"
   ]
  },
  {
   "cell_type": "code",
   "execution_count": 81,
   "metadata": {},
   "outputs": [],
   "source": [
    "from sklearn.tree import DecisionTreeRegressor\n",
    "from sklearn.ensemble import RandomForestRegressor"
   ]
  },
  {
   "cell_type": "code",
   "execution_count": 82,
   "metadata": {},
   "outputs": [],
   "source": [
    "\n",
    "rf_model = RandomForestRegressor(n_estimators=50,max_depth=8)"
   ]
  },
  {
   "cell_type": "code",
   "execution_count": 83,
   "metadata": {},
   "outputs": [
    {
     "data": {
      "text/plain": [
       "array([0.96931565, 0.96354754, 0.96266911, 0.95701789, 0.96666347,\n",
       "       0.9654301 , 0.96775289, 0.97011154, 0.95801446, 0.96672239])"
      ]
     },
     "execution_count": 83,
     "metadata": {},
     "output_type": "execute_result"
    }
   ],
   "source": [
    "results=model_selection.cross_val_score(rf_model,train_scaled, y_train,scoring='r2',cv=kfold)\n",
    "results"
   ]
  },
  {
   "cell_type": "code",
   "execution_count": 84,
   "metadata": {},
   "outputs": [
    {
     "data": {
      "text/plain": [
       "0.9647245046915266"
      ]
     },
     "execution_count": 84,
     "metadata": {},
     "output_type": "execute_result"
    }
   ],
   "source": [
    "results.mean()"
   ]
  },
  {
   "cell_type": "code",
   "execution_count": 85,
   "metadata": {},
   "outputs": [
    {
     "data": {
      "text/plain": [
       "0.9644573188118482"
      ]
     },
     "execution_count": 85,
     "metadata": {},
     "output_type": "execute_result"
    }
   ],
   "source": [
    "Adjusted_R2=1-(1-0.9646973369177895)*(7109-1)/(7109-48-1)\n",
    "Adjusted_R2"
   ]
  },
  {
   "cell_type": "markdown",
   "metadata": {},
   "source": [
    "# Decision Tree"
   ]
  },
  {
   "cell_type": "code",
   "execution_count": 86,
   "metadata": {},
   "outputs": [],
   "source": [
    "tree_model = DecisionTreeRegressor(random_state=0,max_depth=5)"
   ]
  },
  {
   "cell_type": "code",
   "execution_count": 87,
   "metadata": {},
   "outputs": [],
   "source": [
    "seed=6\n",
    "kfold=model_selection.KFold(n_splits=10)"
   ]
  },
  {
   "cell_type": "code",
   "execution_count": 88,
   "metadata": {},
   "outputs": [
    {
     "data": {
      "text/plain": [
       "array([0.90089954, 0.8835718 , 0.88464635, 0.85106228, 0.89002593,\n",
       "       0.89768382, 0.89455223, 0.9002163 , 0.86432198, 0.88726506])"
      ]
     },
     "execution_count": 88,
     "metadata": {},
     "output_type": "execute_result"
    }
   ],
   "source": [
    "results=model_selection.cross_val_score(tree_model,train_scaled, y_train,scoring='r2',cv=kfold)\n",
    "results"
   ]
  },
  {
   "cell_type": "code",
   "execution_count": 89,
   "metadata": {},
   "outputs": [
    {
     "data": {
      "text/plain": [
       "0.885424527591583"
      ]
     },
     "execution_count": 89,
     "metadata": {},
     "output_type": "execute_result"
    }
   ],
   "source": [
    "results.mean()"
   ]
  },
  {
   "cell_type": "code",
   "execution_count": 90,
   "metadata": {},
   "outputs": [
    {
     "data": {
      "text/plain": [
       "0.8846455442097694"
      ]
     },
     "execution_count": 90,
     "metadata": {},
     "output_type": "execute_result"
    }
   ],
   "source": [
    "Adjusted_R2=1-(1-0.885424527591583)*(7109-1)/(7109-48-1)\n",
    "Adjusted_R2"
   ]
  },
  {
   "cell_type": "markdown",
   "metadata": {},
   "source": [
    "# KNN"
   ]
  },
  {
   "cell_type": "code",
   "execution_count": 91,
   "metadata": {},
   "outputs": [],
   "source": [
    "from sklearn.model_selection import GridSearchCV\n",
    "from sklearn.neighbors import KNeighborsRegressor\n",
    "import numpy\n"
   ]
  },
  {
   "cell_type": "code",
   "execution_count": 92,
   "metadata": {},
   "outputs": [],
   "source": [
    "neighbours=numpy.arange(1,51)\n",
    "dist_measure=['jaccard','euclidean','manhattan','chebyshev','minkowski']\n"
   ]
  },
  {
   "cell_type": "code",
   "execution_count": 93,
   "metadata": {},
   "outputs": [],
   "source": [
    "knn=KNeighborsRegressor()\n",
    "parameters={\"metric\":dist_measure,'n_neighbors':neighbours}\n",
    "GS=GridSearchCV(knn,parameters,cv=10)       "
   ]
  },
  {
   "cell_type": "code",
   "execution_count": 94,
   "metadata": {},
   "outputs": [
    {
     "data": {
      "text/plain": [
       "GridSearchCV(cv=10, estimator=KNeighborsRegressor(),\n",
       "             param_grid={'metric': ['jaccard', 'euclidean', 'manhattan',\n",
       "                                    'chebyshev', 'minkowski'],\n",
       "                         'n_neighbors': array([ 1,  2,  3,  4,  5,  6,  7,  8,  9, 10, 11, 12, 13, 14, 15, 16, 17,\n",
       "       18, 19, 20, 21, 22, 23, 24, 25, 26, 27, 28, 29, 30, 31, 32, 33, 34,\n",
       "       35, 36, 37, 38, 39, 40, 41, 42, 43, 44, 45, 46, 47, 48, 49, 50])})"
      ]
     },
     "execution_count": 94,
     "metadata": {},
     "output_type": "execute_result"
    }
   ],
   "source": [
    "GS.fit(train_scaled, y_train)"
   ]
  },
  {
   "cell_type": "code",
   "execution_count": 95,
   "metadata": {},
   "outputs": [
    {
     "data": {
      "text/plain": [
       "{'metric': 'manhattan', 'n_neighbors': 9}"
      ]
     },
     "execution_count": 95,
     "metadata": {},
     "output_type": "execute_result"
    }
   ],
   "source": [
    "GS.best_params_"
   ]
  },
  {
   "cell_type": "code",
   "execution_count": 96,
   "metadata": {},
   "outputs": [
    {
     "data": {
      "text/plain": [
       "0.9050737417345858"
      ]
     },
     "execution_count": 96,
     "metadata": {},
     "output_type": "execute_result"
    }
   ],
   "source": [
    "GS.best_score_"
   ]
  },
  {
   "cell_type": "code",
   "execution_count": 97,
   "metadata": {},
   "outputs": [],
   "source": [
    "knn=KNeighborsRegressor(metric=\"manhattan\",n_neighbors=9)"
   ]
  },
  {
   "cell_type": "code",
   "execution_count": 98,
   "metadata": {},
   "outputs": [
    {
     "data": {
      "text/plain": [
       "array([0.91466973, 0.90196328, 0.91138925, 0.90719461, 0.91030194,\n",
       "       0.90778885, 0.9122586 , 0.89443228, 0.89488538, 0.8958535 ])"
      ]
     },
     "execution_count": 98,
     "metadata": {},
     "output_type": "execute_result"
    }
   ],
   "source": [
    "results=model_selection.cross_val_score(knn,train_scaled, y_train,scoring='r2',cv=kfold)\n",
    "results"
   ]
  },
  {
   "cell_type": "code",
   "execution_count": 99,
   "metadata": {},
   "outputs": [
    {
     "data": {
      "text/plain": [
       "0.9050737417345858"
      ]
     },
     "execution_count": 99,
     "metadata": {},
     "output_type": "execute_result"
    }
   ],
   "source": [
    "results.mean()"
   ]
  },
  {
   "cell_type": "code",
   "execution_count": 100,
   "metadata": {},
   "outputs": [
    {
     "data": {
      "text/plain": [
       "0.9044283507435461"
      ]
     },
     "execution_count": 100,
     "metadata": {},
     "output_type": "execute_result"
    }
   ],
   "source": [
    "Adjusted_R2=1-(1-0.9050737417345858)*(7109-1)/(7109-48-1)\n",
    "Adjusted_R2"
   ]
  },
  {
   "cell_type": "markdown",
   "metadata": {},
   "source": [
    "# Ridge Regression"
   ]
  },
  {
   "cell_type": "code",
   "execution_count": 101,
   "metadata": {},
   "outputs": [],
   "source": [
    "from sklearn.linear_model import Ridge"
   ]
  },
  {
   "cell_type": "code",
   "execution_count": 102,
   "metadata": {},
   "outputs": [],
   "source": [
    "rr = Ridge(alpha=1)"
   ]
  },
  {
   "cell_type": "code",
   "execution_count": 103,
   "metadata": {},
   "outputs": [
    {
     "data": {
      "text/plain": [
       "array([0.95467748, 0.95490652, 0.95603593, 0.95403384, 0.95810859,\n",
       "       0.95430714, 0.96029214, 0.95674359, 0.95114246, 0.95303415])"
      ]
     },
     "execution_count": 103,
     "metadata": {},
     "output_type": "execute_result"
    }
   ],
   "source": [
    "results=model_selection.cross_val_score(rr,train_scaled, y_train,scoring='r2',cv=kfold)\n",
    "results"
   ]
  },
  {
   "cell_type": "code",
   "execution_count": 104,
   "metadata": {},
   "outputs": [
    {
     "data": {
      "text/plain": [
       "0.955328183204719"
      ]
     },
     "execution_count": 104,
     "metadata": {},
     "output_type": "execute_result"
    }
   ],
   "source": [
    "results.mean()"
   ]
  },
  {
   "cell_type": "code",
   "execution_count": 105,
   "metadata": {},
   "outputs": [
    {
     "data": {
      "text/plain": [
       "0.9550244654701335"
      ]
     },
     "execution_count": 105,
     "metadata": {},
     "output_type": "execute_result"
    }
   ],
   "source": [
    "Adjusted_R2=1-(1-0.955328183204719)*(7109-1)/(7109-48-1)\n",
    "Adjusted_R2"
   ]
  },
  {
   "cell_type": "markdown",
   "metadata": {},
   "source": [
    "# Lasso Regression"
   ]
  },
  {
   "cell_type": "code",
   "execution_count": 106,
   "metadata": {},
   "outputs": [],
   "source": [
    "from sklearn.linear_model import Lasso\n",
    "\n",
    "lassoReg = Lasso(alpha=0.3, normalize=True)"
   ]
  },
  {
   "cell_type": "code",
   "execution_count": 107,
   "metadata": {},
   "outputs": [
    {
     "name": "stderr",
     "output_type": "stream",
     "text": [
      "C:\\Users\\user\\anaconda3\\lib\\site-packages\\sklearn\\linear_model\\_coordinate_descent.py:529: ConvergenceWarning: Objective did not converge. You might want to increase the number of iterations. Duality gap: 104039111216960.5, tolerance: 7171308745423.991\n",
      "  model = cd_fast.enet_coordinate_descent(\n",
      "C:\\Users\\user\\anaconda3\\lib\\site-packages\\sklearn\\linear_model\\_coordinate_descent.py:529: ConvergenceWarning: Objective did not converge. You might want to increase the number of iterations. Duality gap: 104171970661202.5, tolerance: 7223242448964.445\n",
      "  model = cd_fast.enet_coordinate_descent(\n",
      "C:\\Users\\user\\anaconda3\\lib\\site-packages\\sklearn\\linear_model\\_coordinate_descent.py:529: ConvergenceWarning: Objective did not converge. You might want to increase the number of iterations. Duality gap: 106005900446070.0, tolerance: 7270609127984.949\n",
      "  model = cd_fast.enet_coordinate_descent(\n",
      "C:\\Users\\user\\anaconda3\\lib\\site-packages\\sklearn\\linear_model\\_coordinate_descent.py:529: ConvergenceWarning: Objective did not converge. You might want to increase the number of iterations. Duality gap: 106477808546870.5, tolerance: 7329816714877.952\n",
      "  model = cd_fast.enet_coordinate_descent(\n",
      "C:\\Users\\user\\anaconda3\\lib\\site-packages\\sklearn\\linear_model\\_coordinate_descent.py:529: ConvergenceWarning: Objective did not converge. You might want to increase the number of iterations. Duality gap: 105117110009345.5, tolerance: 7210533690202.558\n",
      "  model = cd_fast.enet_coordinate_descent(\n",
      "C:\\Users\\user\\anaconda3\\lib\\site-packages\\sklearn\\linear_model\\_coordinate_descent.py:529: ConvergenceWarning: Objective did not converge. You might want to increase the number of iterations. Duality gap: 102620417631985.0, tolerance: 7161683441795.815\n",
      "  model = cd_fast.enet_coordinate_descent(\n",
      "C:\\Users\\user\\anaconda3\\lib\\site-packages\\sklearn\\linear_model\\_coordinate_descent.py:529: ConvergenceWarning: Objective did not converge. You might want to increase the number of iterations. Duality gap: 104045739214786.0, tolerance: 7124077264558.423\n",
      "  model = cd_fast.enet_coordinate_descent(\n",
      "C:\\Users\\user\\anaconda3\\lib\\site-packages\\sklearn\\linear_model\\_coordinate_descent.py:529: ConvergenceWarning: Objective did not converge. You might want to increase the number of iterations. Duality gap: 103713884428085.5, tolerance: 7200196785269.359\n",
      "  model = cd_fast.enet_coordinate_descent(\n",
      "C:\\Users\\user\\anaconda3\\lib\\site-packages\\sklearn\\linear_model\\_coordinate_descent.py:529: ConvergenceWarning: Objective did not converge. You might want to increase the number of iterations. Duality gap: 105002396573515.5, tolerance: 7290060614193.072\n",
      "  model = cd_fast.enet_coordinate_descent(\n",
      "C:\\Users\\user\\anaconda3\\lib\\site-packages\\sklearn\\linear_model\\_coordinate_descent.py:529: ConvergenceWarning: Objective did not converge. You might want to increase the number of iterations. Duality gap: 102153701366889.0, tolerance: 7227592627125.836\n",
      "  model = cd_fast.enet_coordinate_descent(\n"
     ]
    },
    {
     "data": {
      "text/plain": [
       "array([0.9546825 , 0.95491207, 0.95602556, 0.95402848, 0.95810659,\n",
       "       0.95431533, 0.96029044, 0.95674605, 0.95114443, 0.95302611])"
      ]
     },
     "execution_count": 107,
     "metadata": {},
     "output_type": "execute_result"
    }
   ],
   "source": [
    "results=model_selection.cross_val_score(lassoReg,train_scaled, y_train,scoring='r2',cv=kfold)\n",
    "results"
   ]
  },
  {
   "cell_type": "code",
   "execution_count": 108,
   "metadata": {},
   "outputs": [
    {
     "data": {
      "text/plain": [
       "0.9553277550696831"
      ]
     },
     "execution_count": 108,
     "metadata": {},
     "output_type": "execute_result"
    }
   ],
   "source": [
    "results.mean()"
   ]
  },
  {
   "cell_type": "code",
   "execution_count": 109,
   "metadata": {},
   "outputs": [
    {
     "data": {
      "text/plain": [
       "0.9550240344242645"
      ]
     },
     "execution_count": 109,
     "metadata": {},
     "output_type": "execute_result"
    }
   ],
   "source": [
    "Adjusted_R2=1-(1-0.9553277550696831)*(7109-1)/(7109-48-1)\n",
    "Adjusted_R2"
   ]
  },
  {
   "cell_type": "code",
   "execution_count": null,
   "metadata": {},
   "outputs": [],
   "source": []
  }
 ],
 "metadata": {
  "kernelspec": {
   "display_name": "Python 3",
   "language": "python",
   "name": "python3"
  },
  "language_info": {
   "codemirror_mode": {
    "name": "ipython",
    "version": 3
   },
   "file_extension": ".py",
   "mimetype": "text/x-python",
   "name": "python",
   "nbconvert_exporter": "python",
   "pygments_lexer": "ipython3",
   "version": "3.8.3"
  }
 },
 "nbformat": 4,
 "nbformat_minor": 2
}
